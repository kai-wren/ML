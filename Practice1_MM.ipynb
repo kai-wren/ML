{
 "cells": [
  {
   "cell_type": "markdown",
   "metadata": {
    "colab_type": "text",
    "id": "qmpZeRhwGmqX"
   },
   "source": [
    "# Introduction to supervised learning \n",
    "\n",
    "Let's practice the material we just discussed during the lecture. Please, make a copy of this colaboratory in order to be able to make changes **(File -> Save a copy in Drive)**.\n"
   ]
  },
  {
   "cell_type": "markdown",
   "metadata": {
    "colab_type": "text",
    "id": "XqrP_NsXbOX3"
   },
   "source": [
    "## Homework #1\n",
    "\n",
    "This colaboratory also contains Homework #1 which is due Feb 20 midnight (23:59 EET time). To complete the homework, extract **(File -> Download .ipynb)** and submit to the course webpage."
   ]
  },
  {
   "cell_type": "markdown",
   "metadata": {
    "colab_type": "text",
    "id": "ZV4uCvr556Ey"
   },
   "source": [
    "## Introducing Colaboratory (Colab)\n",
    "**Colaboratory**, is a great tool created by Google for individuals interested in getting a hands-on experience with Machine Learning (including Deep Learning). It offers a free CPU/**GPU** quota and a preconfigured virtual machine instance set up for to run Tensorflow and Keras libraries using a Jupyter notebook instance. **In one sentence, it is a perfect “getting started” point for experimentation with neural networks for any part-time hobbist or computer nerd**.\n",
    "\n",
    "*Introductory text by Oleg Żero (https://zerowithdot.com/colab-workspace/).*\n"
   ]
  },
  {
   "cell_type": "code",
   "execution_count": null,
   "metadata": {
    "colab": {
     "base_uri": "https://localhost:8080/",
     "height": 35
    },
    "colab_type": "code",
    "id": "cMZE8eDa6ZDP",
    "outputId": "53223515-70ce-4ef5-b569-8ef3f734d386"
   },
   "outputs": [],
   "source": [
    "!ls"
   ]
  },
  {
   "cell_type": "markdown",
   "metadata": {
    "colab_type": "text",
    "id": "_y2ZD14f9EQt"
   },
   "source": [
    "## Classification with KNN on MNIST\n",
    "We shall use classical MNIST dataset to practice one of the simplest machine learning algorithms - Nearest Neighbour algorithm and its extension - K-Nearest Neighbour algorithm. MNIST stands for Mixed National Institute of Standards and Technology and contains almost 60,000 small square 28×28 pixel grayscale images of digits from 0 to 9. Let's load it!"
   ]
  },
  {
   "cell_type": "markdown",
   "metadata": {
    "colab_type": "text",
    "id": "NJIhqUhr40Ks"
   },
   "source": [
    "### Setup: \n",
    "Here we will load necessary libraries (NumPy, Pandas and loading and visualising MNIST handwritten digits "
   ]
  },
  {
   "cell_type": "code",
   "execution_count": 1,
   "metadata": {
    "colab": {
     "base_uri": "https://localhost:8080/",
     "height": 65
    },
    "colab_type": "code",
    "id": "bqp9Kj1g4yFb",
    "outputId": "c3bcf003-4ee6-4be9-9ce1-4e2ec3bd92b3"
   },
   "outputs": [
    {
     "name": "stderr",
     "output_type": "stream",
     "text": [
      "C:\\Users\\Mykhaylo_Manukyan\\AppData\\Local\\Continuum\\anaconda3\\lib\\site-packages\\tensorflow\\python\\framework\\dtypes.py:526: FutureWarning: Passing (type, 1) or '1type' as a synonym of type is deprecated; in a future version of numpy, it will be understood as (type, (1,)) / '(1,)type'.\n",
      "  _np_qint8 = np.dtype([(\"qint8\", np.int8, 1)])\n",
      "C:\\Users\\Mykhaylo_Manukyan\\AppData\\Local\\Continuum\\anaconda3\\lib\\site-packages\\tensorflow\\python\\framework\\dtypes.py:527: FutureWarning: Passing (type, 1) or '1type' as a synonym of type is deprecated; in a future version of numpy, it will be understood as (type, (1,)) / '(1,)type'.\n",
      "  _np_quint8 = np.dtype([(\"quint8\", np.uint8, 1)])\n",
      "C:\\Users\\Mykhaylo_Manukyan\\AppData\\Local\\Continuum\\anaconda3\\lib\\site-packages\\tensorflow\\python\\framework\\dtypes.py:528: FutureWarning: Passing (type, 1) or '1type' as a synonym of type is deprecated; in a future version of numpy, it will be understood as (type, (1,)) / '(1,)type'.\n",
      "  _np_qint16 = np.dtype([(\"qint16\", np.int16, 1)])\n",
      "C:\\Users\\Mykhaylo_Manukyan\\AppData\\Local\\Continuum\\anaconda3\\lib\\site-packages\\tensorflow\\python\\framework\\dtypes.py:529: FutureWarning: Passing (type, 1) or '1type' as a synonym of type is deprecated; in a future version of numpy, it will be understood as (type, (1,)) / '(1,)type'.\n",
      "  _np_quint16 = np.dtype([(\"quint16\", np.uint16, 1)])\n",
      "C:\\Users\\Mykhaylo_Manukyan\\AppData\\Local\\Continuum\\anaconda3\\lib\\site-packages\\tensorflow\\python\\framework\\dtypes.py:530: FutureWarning: Passing (type, 1) or '1type' as a synonym of type is deprecated; in a future version of numpy, it will be understood as (type, (1,)) / '(1,)type'.\n",
      "  _np_qint32 = np.dtype([(\"qint32\", np.int32, 1)])\n",
      "C:\\Users\\Mykhaylo_Manukyan\\AppData\\Local\\Continuum\\anaconda3\\lib\\site-packages\\tensorflow\\python\\framework\\dtypes.py:535: FutureWarning: Passing (type, 1) or '1type' as a synonym of type is deprecated; in a future version of numpy, it will be understood as (type, (1,)) / '(1,)type'.\n",
      "  np_resource = np.dtype([(\"resource\", np.ubyte, 1)])\n"
     ]
    }
   ],
   "source": [
    "import numpy as np \n",
    "import pandas as pd\n",
    "import matplotlib.pyplot as plt\n",
    "\n",
    "import warnings\n",
    "warnings.filterwarnings('ignore', category = RuntimeWarning)\n",
    "\n",
    "import os\n",
    "\n",
    "from tensorflow.examples.tutorials.mnist import input_data"
   ]
  },
  {
   "cell_type": "code",
   "execution_count": 2,
   "metadata": {
    "colab": {
     "base_uri": "https://localhost:8080/",
     "height": 509
    },
    "colab_type": "code",
    "id": "KEmje5XZ5JBU",
    "outputId": "0468f229-2ce3-4994-c33d-073d2a696d39"
   },
   "outputs": [
    {
     "name": "stdout",
     "output_type": "stream",
     "text": [
      "WARNING:tensorflow:From <ipython-input-2-f9584ef0ae80>:1: read_data_sets (from tensorflow.contrib.learn.python.learn.datasets.mnist) is deprecated and will be removed in a future version.\n",
      "Instructions for updating:\n",
      "Please use alternatives such as official/mnist/dataset.py from tensorflow/models.\n",
      "WARNING:tensorflow:From C:\\Users\\Mykhaylo_Manukyan\\AppData\\Local\\Continuum\\anaconda3\\lib\\site-packages\\tensorflow\\contrib\\learn\\python\\learn\\datasets\\mnist.py:260: maybe_download (from tensorflow.contrib.learn.python.learn.datasets.base) is deprecated and will be removed in a future version.\n",
      "Instructions for updating:\n",
      "Please write your own downloading logic.\n",
      "WARNING:tensorflow:From C:\\Users\\Mykhaylo_Manukyan\\AppData\\Local\\Continuum\\anaconda3\\lib\\site-packages\\tensorflow\\contrib\\learn\\python\\learn\\datasets\\base.py:252: _internal_retry.<locals>.wrap.<locals>.wrapped_fn (from tensorflow.contrib.learn.python.learn.datasets.base) is deprecated and will be removed in a future version.\n",
      "Instructions for updating:\n",
      "Please use urllib or similar directly.\n",
      "Successfully downloaded train-images-idx3-ubyte.gz 9912422 bytes.\n",
      "WARNING:tensorflow:From C:\\Users\\Mykhaylo_Manukyan\\AppData\\Local\\Continuum\\anaconda3\\lib\\site-packages\\tensorflow\\contrib\\learn\\python\\learn\\datasets\\mnist.py:262: extract_images (from tensorflow.contrib.learn.python.learn.datasets.mnist) is deprecated and will be removed in a future version.\n",
      "Instructions for updating:\n",
      "Please use tf.data to implement this functionality.\n",
      "Extracting MNIST_data/train-images-idx3-ubyte.gz\n",
      "Successfully downloaded train-labels-idx1-ubyte.gz 28881 bytes.\n",
      "WARNING:tensorflow:From C:\\Users\\Mykhaylo_Manukyan\\AppData\\Local\\Continuum\\anaconda3\\lib\\site-packages\\tensorflow\\contrib\\learn\\python\\learn\\datasets\\mnist.py:267: extract_labels (from tensorflow.contrib.learn.python.learn.datasets.mnist) is deprecated and will be removed in a future version.\n",
      "Instructions for updating:\n",
      "Please use tf.data to implement this functionality.\n",
      "Extracting MNIST_data/train-labels-idx1-ubyte.gz\n",
      "Successfully downloaded t10k-images-idx3-ubyte.gz 1648877 bytes.\n",
      "Extracting MNIST_data/t10k-images-idx3-ubyte.gz\n",
      "Successfully downloaded t10k-labels-idx1-ubyte.gz 4542 bytes.\n",
      "Extracting MNIST_data/t10k-labels-idx1-ubyte.gz\n",
      "WARNING:tensorflow:From C:\\Users\\Mykhaylo_Manukyan\\AppData\\Local\\Continuum\\anaconda3\\lib\\site-packages\\tensorflow\\contrib\\learn\\python\\learn\\datasets\\mnist.py:290: DataSet.__init__ (from tensorflow.contrib.learn.python.learn.datasets.mnist) is deprecated and will be removed in a future version.\n",
      "Instructions for updating:\n",
      "Please use alternatives such as official/mnist/dataset.py from tensorflow/models.\n"
     ]
    }
   ],
   "source": [
    "mnist = input_data.read_data_sets(\"MNIST_data/\", one_hot=False)"
   ]
  },
  {
   "cell_type": "code",
   "execution_count": 3,
   "metadata": {
    "colab": {
     "base_uri": "https://localhost:8080/",
     "height": 35
    },
    "colab_type": "code",
    "id": "cZzoTvgS6XQH",
    "outputId": "6bcb0f6c-7332-4d2f-9242-ff66ce520a84"
   },
   "outputs": [
    {
     "name": "stderr",
     "output_type": "stream",
     "text": [
      "'ls' is not recognized as an internal or external command,\n",
      "operable program or batch file.\n"
     ]
    }
   ],
   "source": [
    "!ls"
   ]
  },
  {
   "cell_type": "markdown",
   "metadata": {
    "colab_type": "text",
    "id": "uuGg44WglSCR"
   },
   "source": [
    "We reshape 28x28 images into vectors of size 784 to decrease the dimensionality of the training data matrix."
   ]
  },
  {
   "cell_type": "code",
   "execution_count": 4,
   "metadata": {
    "colab": {
     "base_uri": "https://localhost:8080/",
     "height": 35
    },
    "colab_type": "code",
    "id": "WtOd4fiY5K_R",
    "outputId": "6b2f8bf9-592b-418c-9902-28e215da4192"
   },
   "outputs": [
    {
     "name": "stdout",
     "output_type": "stream",
     "text": [
      "images are of shape: (55000, 784) and labels: (55000,)\n"
     ]
    }
   ],
   "source": [
    "images = np.vstack([img.reshape(-1,) for img in mnist.train.images])\n",
    "labels = mnist.train.labels\n",
    "print(f\"images are of shape: {images.shape} and labels: {labels.shape}\")"
   ]
  },
  {
   "cell_type": "markdown",
   "metadata": {
    "colab_type": "text",
    "id": "6pjoMXl362uf"
   },
   "source": [
    "### Visualising MNIST"
   ]
  },
  {
   "cell_type": "code",
   "execution_count": 5,
   "metadata": {
    "colab": {
     "base_uri": "https://localhost:8080/",
     "height": 1000
    },
    "colab_type": "code",
    "id": "ukpUqfgl4S3j",
    "outputId": "8c51d773-227d-45d5-d08b-af8e6c4961b0"
   },
   "outputs": [
    {
     "data": {
      "text/plain": [
       "array([0.        , 0.        , 0.        , 0.        , 0.        ,\n",
       "       0.        , 0.        , 0.        , 0.        , 0.        ,\n",
       "       0.        , 0.        , 0.        , 0.        , 0.        ,\n",
       "       0.        , 0.        , 0.        , 0.        , 0.        ,\n",
       "       0.        , 0.        , 0.        , 0.        , 0.        ,\n",
       "       0.        , 0.        , 0.        , 0.        , 0.        ,\n",
       "       0.        , 0.        , 0.        , 0.        , 0.        ,\n",
       "       0.        , 0.        , 0.        , 0.        , 0.        ,\n",
       "       0.        , 0.        , 0.        , 0.        , 0.        ,\n",
       "       0.        , 0.        , 0.        , 0.        , 0.        ,\n",
       "       0.        , 0.        , 0.        , 0.        , 0.        ,\n",
       "       0.        , 0.        , 0.        , 0.        , 0.        ,\n",
       "       0.        , 0.        , 0.        , 0.        , 0.        ,\n",
       "       0.        , 0.        , 0.        , 0.        , 0.        ,\n",
       "       0.        , 0.        , 0.        , 0.        , 0.        ,\n",
       "       0.        , 0.        , 0.        , 0.        , 0.        ,\n",
       "       0.        , 0.        , 0.        , 0.        , 0.        ,\n",
       "       0.        , 0.        , 0.        , 0.        , 0.        ,\n",
       "       0.        , 0.        , 0.        , 0.        , 0.        ,\n",
       "       0.        , 0.        , 0.        , 0.        , 0.        ,\n",
       "       0.        , 0.        , 0.        , 0.        , 0.        ,\n",
       "       0.        , 0.        , 0.        , 0.        , 0.        ,\n",
       "       0.        , 0.        , 0.        , 0.        , 0.        ,\n",
       "       0.        , 0.        , 0.        , 0.        , 0.        ,\n",
       "       0.        , 0.        , 0.        , 0.        , 0.        ,\n",
       "       0.        , 0.        , 0.        , 0.        , 0.        ,\n",
       "       0.        , 0.        , 0.        , 0.        , 0.        ,\n",
       "       0.        , 0.        , 0.        , 0.        , 0.        ,\n",
       "       0.        , 0.        , 0.        , 0.        , 0.        ,\n",
       "       0.        , 0.        , 0.        , 0.        , 0.        ,\n",
       "       0.        , 0.        , 0.        , 0.        , 0.        ,\n",
       "       0.        , 0.        , 0.        , 0.        , 0.        ,\n",
       "       0.        , 0.        , 0.        , 0.        , 0.        ,\n",
       "       0.        , 0.        , 0.        , 0.        , 0.        ,\n",
       "       0.        , 0.        , 0.        , 0.        , 0.        ,\n",
       "       0.        , 0.        , 0.        , 0.        , 0.        ,\n",
       "       0.        , 0.        , 0.        , 0.        , 0.        ,\n",
       "       0.        , 0.        , 0.        , 0.        , 0.        ,\n",
       "       0.        , 0.        , 0.        , 0.        , 0.        ,\n",
       "       0.        , 0.        , 0.        , 0.        , 0.        ,\n",
       "       0.        , 0.        , 0.        , 0.        , 0.        ,\n",
       "       0.        , 0.        , 0.3803922 , 0.37647063, 0.3019608 ,\n",
       "       0.46274513, 0.2392157 , 0.        , 0.        , 0.        ,\n",
       "       0.        , 0.        , 0.        , 0.        , 0.        ,\n",
       "       0.        , 0.        , 0.        , 0.        , 0.        ,\n",
       "       0.        , 0.        , 0.3529412 , 0.5411765 , 0.9215687 ,\n",
       "       0.9215687 , 0.9215687 , 0.9215687 , 0.9215687 , 0.9215687 ,\n",
       "       0.9843138 , 0.9843138 , 0.9725491 , 0.9960785 , 0.9607844 ,\n",
       "       0.9215687 , 0.74509805, 0.08235294, 0.        , 0.        ,\n",
       "       0.        , 0.        , 0.        , 0.        , 0.        ,\n",
       "       0.        , 0.        , 0.        , 0.        , 0.54901963,\n",
       "       0.9843138 , 0.9960785 , 0.9960785 , 0.9960785 , 0.9960785 ,\n",
       "       0.9960785 , 0.9960785 , 0.9960785 , 0.9960785 , 0.9960785 ,\n",
       "       0.9960785 , 0.9960785 , 0.9960785 , 0.9960785 , 0.9960785 ,\n",
       "       0.7411765 , 0.09019608, 0.        , 0.        , 0.        ,\n",
       "       0.        , 0.        , 0.        , 0.        , 0.        ,\n",
       "       0.        , 0.        , 0.8862746 , 0.9960785 , 0.81568635,\n",
       "       0.7803922 , 0.7803922 , 0.7803922 , 0.7803922 , 0.54509807,\n",
       "       0.2392157 , 0.2392157 , 0.2392157 , 0.2392157 , 0.2392157 ,\n",
       "       0.5019608 , 0.8705883 , 0.9960785 , 0.9960785 , 0.7411765 ,\n",
       "       0.08235294, 0.        , 0.        , 0.        , 0.        ,\n",
       "       0.        , 0.        , 0.        , 0.        , 0.        ,\n",
       "       0.14901961, 0.32156864, 0.0509804 , 0.        , 0.        ,\n",
       "       0.        , 0.        , 0.        , 0.        , 0.        ,\n",
       "       0.        , 0.        , 0.        , 0.        , 0.13333334,\n",
       "       0.8352942 , 0.9960785 , 0.9960785 , 0.45098042, 0.        ,\n",
       "       0.        , 0.        , 0.        , 0.        , 0.        ,\n",
       "       0.        , 0.        , 0.        , 0.        , 0.        ,\n",
       "       0.        , 0.        , 0.        , 0.        , 0.        ,\n",
       "       0.        , 0.        , 0.        , 0.        , 0.        ,\n",
       "       0.        , 0.        , 0.        , 0.32941177, 0.9960785 ,\n",
       "       0.9960785 , 0.9176471 , 0.        , 0.        , 0.        ,\n",
       "       0.        , 0.        , 0.        , 0.        , 0.        ,\n",
       "       0.        , 0.        , 0.        , 0.        , 0.        ,\n",
       "       0.        , 0.        , 0.        , 0.        , 0.        ,\n",
       "       0.        , 0.        , 0.        , 0.        , 0.        ,\n",
       "       0.        , 0.32941177, 0.9960785 , 0.9960785 , 0.9176471 ,\n",
       "       0.        , 0.        , 0.        , 0.        , 0.        ,\n",
       "       0.        , 0.        , 0.        , 0.        , 0.        ,\n",
       "       0.        , 0.        , 0.        , 0.        , 0.        ,\n",
       "       0.        , 0.        , 0.        , 0.        , 0.        ,\n",
       "       0.        , 0.        , 0.        , 0.4156863 , 0.6156863 ,\n",
       "       0.9960785 , 0.9960785 , 0.95294124, 0.20000002, 0.        ,\n",
       "       0.        , 0.        , 0.        , 0.        , 0.        ,\n",
       "       0.        , 0.        , 0.        , 0.        , 0.        ,\n",
       "       0.        , 0.        , 0.        , 0.        , 0.        ,\n",
       "       0.        , 0.09803922, 0.45882356, 0.8941177 , 0.8941177 ,\n",
       "       0.8941177 , 0.9921569 , 0.9960785 , 0.9960785 , 0.9960785 ,\n",
       "       0.9960785 , 0.94117653, 0.        , 0.        , 0.        ,\n",
       "       0.        , 0.        , 0.        , 0.        , 0.        ,\n",
       "       0.        , 0.        , 0.        , 0.        , 0.        ,\n",
       "       0.        , 0.        , 0.26666668, 0.4666667 , 0.86274517,\n",
       "       0.9960785 , 0.9960785 , 0.9960785 , 0.9960785 , 0.9960785 ,\n",
       "       0.9960785 , 0.9960785 , 0.9960785 , 0.9960785 , 0.5568628 ,\n",
       "       0.        , 0.        , 0.        , 0.        , 0.        ,\n",
       "       0.        , 0.        , 0.        , 0.        , 0.        ,\n",
       "       0.        , 0.        , 0.        , 0.14509805, 0.73333335,\n",
       "       0.9921569 , 0.9960785 , 0.9960785 , 0.9960785 , 0.8745099 ,\n",
       "       0.8078432 , 0.8078432 , 0.29411766, 0.26666668, 0.8431373 ,\n",
       "       0.9960785 , 0.9960785 , 0.45882356, 0.        , 0.        ,\n",
       "       0.        , 0.        , 0.        , 0.        , 0.        ,\n",
       "       0.        , 0.        , 0.        , 0.        , 0.        ,\n",
       "       0.4431373 , 0.8588236 , 0.9960785 , 0.9490197 , 0.89019614,\n",
       "       0.45098042, 0.34901962, 0.12156864, 0.        , 0.        ,\n",
       "       0.        , 0.        , 0.7843138 , 0.9960785 , 0.9450981 ,\n",
       "       0.16078432, 0.        , 0.        , 0.        , 0.        ,\n",
       "       0.        , 0.        , 0.        , 0.        , 0.        ,\n",
       "       0.        , 0.        , 0.        , 0.6627451 , 0.9960785 ,\n",
       "       0.6901961 , 0.24313727, 0.        , 0.        , 0.        ,\n",
       "       0.        , 0.        , 0.        , 0.        , 0.18823531,\n",
       "       0.9058824 , 0.9960785 , 0.9176471 , 0.        , 0.        ,\n",
       "       0.        , 0.        , 0.        , 0.        , 0.        ,\n",
       "       0.        , 0.        , 0.        , 0.        , 0.        ,\n",
       "       0.        , 0.07058824, 0.48627454, 0.        , 0.        ,\n",
       "       0.        , 0.        , 0.        , 0.        , 0.        ,\n",
       "       0.        , 0.        , 0.32941177, 0.9960785 , 0.9960785 ,\n",
       "       0.6509804 , 0.        , 0.        , 0.        , 0.        ,\n",
       "       0.        , 0.        , 0.        , 0.        , 0.        ,\n",
       "       0.        , 0.        , 0.        , 0.        , 0.        ,\n",
       "       0.        , 0.        , 0.        , 0.        , 0.        ,\n",
       "       0.        , 0.        , 0.        , 0.        , 0.        ,\n",
       "       0.54509807, 0.9960785 , 0.9333334 , 0.22352943, 0.        ,\n",
       "       0.        , 0.        , 0.        , 0.        , 0.        ,\n",
       "       0.        , 0.        , 0.        , 0.        , 0.        ,\n",
       "       0.        , 0.        , 0.        , 0.        , 0.        ,\n",
       "       0.        , 0.        , 0.        , 0.        , 0.        ,\n",
       "       0.        , 0.        , 0.8235295 , 0.9803922 , 0.9960785 ,\n",
       "       0.65882355, 0.        , 0.        , 0.        , 0.        ,\n",
       "       0.        , 0.        , 0.        , 0.        , 0.        ,\n",
       "       0.        , 0.        , 0.        , 0.        , 0.        ,\n",
       "       0.        , 0.        , 0.        , 0.        , 0.        ,\n",
       "       0.        , 0.        , 0.        , 0.        , 0.        ,\n",
       "       0.9490197 , 0.9960785 , 0.93725497, 0.22352943, 0.        ,\n",
       "       0.        , 0.        , 0.        , 0.        , 0.        ,\n",
       "       0.        , 0.        , 0.        , 0.        , 0.        ,\n",
       "       0.        , 0.        , 0.        , 0.        , 0.        ,\n",
       "       0.        , 0.        , 0.        , 0.        , 0.        ,\n",
       "       0.        , 0.        , 0.34901962, 0.9843138 , 0.9450981 ,\n",
       "       0.3372549 , 0.        , 0.        , 0.        , 0.        ,\n",
       "       0.        , 0.        , 0.        , 0.        , 0.        ,\n",
       "       0.        , 0.        , 0.        , 0.        , 0.        ,\n",
       "       0.        , 0.        , 0.        , 0.        , 0.        ,\n",
       "       0.        , 0.        , 0.        , 0.        , 0.01960784,\n",
       "       0.8078432 , 0.96470594, 0.6156863 , 0.        , 0.        ,\n",
       "       0.        , 0.        , 0.        , 0.        , 0.        ,\n",
       "       0.        , 0.        , 0.        , 0.        , 0.        ,\n",
       "       0.        , 0.        , 0.        , 0.        , 0.        ,\n",
       "       0.        , 0.        , 0.        , 0.        , 0.        ,\n",
       "       0.        , 0.        , 0.01568628, 0.45882356, 0.27058825,\n",
       "       0.        , 0.        , 0.        , 0.        , 0.        ,\n",
       "       0.        , 0.        , 0.        , 0.        , 0.        ,\n",
       "       0.        , 0.        , 0.        , 0.        , 0.        ,\n",
       "       0.        , 0.        , 0.        , 0.        , 0.        ,\n",
       "       0.        , 0.        , 0.        , 0.        , 0.        ,\n",
       "       0.        , 0.        , 0.        , 0.        , 0.        ,\n",
       "       0.        , 0.        , 0.        , 0.        , 0.        ,\n",
       "       0.        , 0.        , 0.        , 0.        ], dtype=float32)"
      ]
     },
     "execution_count": 5,
     "metadata": {},
     "output_type": "execute_result"
    }
   ],
   "source": [
    "images[0,:]"
   ]
  },
  {
   "cell_type": "code",
   "execution_count": 6,
   "metadata": {
    "colab": {
     "base_uri": "https://localhost:8080/",
     "height": 248
    },
    "colab_type": "code",
    "id": "5Lz7Z0w164wa",
    "outputId": "4b48c821-1eca-4ee2-ff65-1862d4f72bfa"
   },
   "outputs": [
    {
     "data": {
      "image/png": "[encoded data removed]",
      "text/plain": [
       "<Figure size 432x288 with 1 Axes>"
      ]
     },
     "metadata": {
      "needs_background": "light"
     },
     "output_type": "display_data"
    }
   ],
   "source": [
    "# Let's resize and plot the first image\n",
    "img_matrix = images[0,:].reshape((28, 28))\n",
    "plt.imshow(img_matrix, plt.get_cmap('gray'));\n",
    "plt.axis('off')\n",
    "plt.show()"
   ]
  },
  {
   "cell_type": "markdown",
   "metadata": {
    "colab_type": "text",
    "id": "IhZI1zCV8MIB"
   },
   "source": [
    "What is the label of this image?"
   ]
  },
  {
   "cell_type": "code",
   "execution_count": 7,
   "metadata": {
    "colab": {
     "base_uri": "https://localhost:8080/",
     "height": 35
    },
    "colab_type": "code",
    "id": "zyNG9jTt8Qyu",
    "outputId": "f0e2eb99-dab2-460b-eba6-6fe4e44ddf3e"
   },
   "outputs": [
    {
     "name": "stdout",
     "output_type": "stream",
     "text": [
      "Correct label of the first image is: 7\n"
     ]
    }
   ],
   "source": [
    "print (f\"Correct label of the first image is: {labels[0]}\")"
   ]
  },
  {
   "cell_type": "markdown",
   "metadata": {
    "colab_type": "text",
    "id": "X3bKSXt28y8T"
   },
   "source": [
    "### Subsampling\n",
    "\n",
    "Although, in practice you typically want to use as much data as possible to train your models, large datasets are not very suitable for experimenting and visualization -- it is just too annoying to have to wait minutes for each step to continue. Thus, 60000 examples is a bit too much for our purposes, so why not to sample just 2000."
   ]
  },
  {
   "cell_type": "code",
   "execution_count": 8,
   "metadata": {
    "colab": {},
    "colab_type": "code",
    "id": "SDDMSi-29R72"
   },
   "outputs": [],
   "source": [
    "train_images = images[0:2000,:]\n",
    "train_labels = labels[0:2000]\n",
    "\n",
    "test_images = images[2000:3000,:]\n",
    "test_labels = labels[2000:3000]"
   ]
  },
  {
   "cell_type": "code",
   "execution_count": 9,
   "metadata": {
    "colab": {
     "base_uri": "https://localhost:8080/",
     "height": 265
    },
    "colab_type": "code",
    "id": "U01rOKxi9S8K",
    "outputId": "38d55f29-129a-4610-d094-e15d306c7c33"
   },
   "outputs": [
    {
     "data": {
      "image/png": "[encoded data removed]",
      "text/plain": [
       "<Figure size 432x288 with 1 Axes>"
      ]
     },
     "metadata": {
      "needs_background": "light"
     },
     "output_type": "display_data"
    }
   ],
   "source": [
    "# We should make sure that the distribution is more or less uniform across our samples\n",
    "plt.hist(train_labels);"
   ]
  },
  {
   "cell_type": "markdown",
   "metadata": {
    "colab_type": "text",
    "id": "vqX3QBjzpOhl"
   },
   "source": [
    "Let's see some more examples from all classes."
   ]
  },
  {
   "cell_type": "code",
   "execution_count": 10,
   "metadata": {
    "colab": {
     "base_uri": "https://localhost:8080/",
     "height": 476
    },
    "colab_type": "code",
    "id": "2quhKyr2pOhl",
    "outputId": "ea5048e3-4410-40c6-a976-805c48c6e71d"
   },
   "outputs": [
    {
     "data": {
      "image/png": "[encoded data removed]",
      "text/plain": [
       "<Figure size 720x576 with 70 Axes>"
      ]
     },
     "metadata": {
      "needs_background": "light"
     },
     "output_type": "display_data"
    }
   ],
   "source": [
    "plt.rcParams['figure.figsize'] = (10.0, 8.0) # set default size of plots\n",
    "# \"Names\" of classes:\n",
    "classes =  ['0', '1', '2', '3', '4', '5', '6', '7', '8', '9']\n",
    "\n",
    "num_classes = len(classes)\n",
    "samples_per_class = 7 # Number of images from each class we want to see\n",
    "for y, cls in enumerate(classes):\n",
    "    idxs = np.flatnonzero(train_labels == y)\n",
    "    idxs = np.random.choice(idxs, samples_per_class, replace=False)\n",
    "    for i, idx in enumerate(idxs):\n",
    "        plt_idx = i * num_classes + y + 1\n",
    "        plt.subplot(samples_per_class, num_classes, plt_idx)\n",
    "        plt.imshow(train_images[idx].reshape((28, 28)), plt.get_cmap('gray'))\n",
    "        plt.axis('off')\n",
    "        if i == 0:\n",
    "            plt.title(cls)\n",
    "plt.show()"
   ]
  },
  {
   "cell_type": "markdown",
   "metadata": {
    "colab_type": "text",
    "id": "eQH4v-HBeqCX"
   },
   "source": [
    "**Classroom exercise**: Let's define a distance function, let it be Eucledian distance (L2)"
   ]
  },
  {
   "cell_type": "code",
   "execution_count": 11,
   "metadata": {
    "colab": {},
    "colab_type": "code",
    "id": "SGcd0I9teqCY"
   },
   "outputs": [],
   "source": [
    "def dist(img1, img2):\n",
    "  ##### YOUR CODE STARTS #####\n",
    "  # return np.linalg.norm(img2 - img1)\n",
    "  return np.sqrt(np.sum((img2 - img1)**2))\n",
    "  ##### YOUR CODE ENDS ##### (please do not delete this line)"
   ]
  },
  {
   "cell_type": "markdown",
   "metadata": {
    "colab_type": "text",
    "id": "3yZpyMGQ2vtJ"
   },
   "source": [
    "Check the validity of the function here:"
   ]
  },
  {
   "cell_type": "code",
   "execution_count": 12,
   "metadata": {
    "colab": {
     "base_uri": "https://localhost:8080/",
     "height": 35
    },
    "colab_type": "code",
    "id": "DGzbw4iDy2q8",
    "outputId": "9b42fe69-b0c3-4912-9ab6-c04c98ebce22"
   },
   "outputs": [
    {
     "name": "stdout",
     "output_type": "stream",
     "text": [
      "Distance between first two images is 11.85839557647705 and should be about 11.858\n"
     ]
    }
   ],
   "source": [
    "print(f\"Distance between first two images is {dist(train_images[0], train_images[1])} and should be about 11.858\")"
   ]
  },
  {
   "cell_type": "markdown",
   "metadata": {
    "colab_type": "text",
    "id": "_2mAqlYAeqCc"
   },
   "source": [
    "You can play with the defined function below. Check that the distance between images of the same digit is typically smaller than the distance between images of different digits."
   ]
  },
  {
   "cell_type": "code",
   "execution_count": 13,
   "metadata": {
    "colab": {
     "base_uri": "https://localhost:8080/",
     "height": 53
    },
    "colab_type": "code",
    "id": "yv5jbMDIeqCd",
    "outputId": "10a03ce3-0bc1-4cdf-c3bc-49ab4e0f9cbd"
   },
   "outputs": [
    {
     "name": "stdout",
     "output_type": "stream",
     "text": [
      "Distance between image with a class 3 and class 6 is 10.872645378112793\n",
      "Distance between image with a class 3 and class 3 is 8.07426929473877\n"
     ]
    }
   ],
   "source": [
    "print(f\"Distance between image with a class {train_labels[1]} and class {train_labels[3]} is {dist(train_images[1], train_images[3])}\")\n",
    "print(f\"Distance between image with a class {train_labels[1]} and class {train_labels[11]} is {dist(train_images[1], train_images[11])}\")"
   ]
  },
  {
   "cell_type": "markdown",
   "metadata": {
    "colab_type": "text",
    "id": "Q1OhO80neqCg"
   },
   "source": [
    "Now the actual algorithm. It consists of three steps.\n",
    "\n",
    "1. Compute distances to all points in the dataset\n",
    "2. Find the closest point, and \n",
    "3. Report the corresponding label.\n",
    "\n",
    "**Classroom exercise**: Implement the three steps.\n",
    "\n",
    "We shall do it gently. First we pick a sample image that we will be classifying. Let us say that the first image from the `test_images` is an unknown image sent by our friend:"
   ]
  },
  {
   "cell_type": "code",
   "execution_count": 14,
   "metadata": {
    "colab": {},
    "colab_type": "code",
    "id": "XZUcvMUkdizm"
   },
   "outputs": [],
   "source": [
    "test_image = test_images[0]\n",
    "test_label = test_labels[0]"
   ]
  },
  {
   "cell_type": "code",
   "execution_count": 15,
   "metadata": {
    "colab": {
     "base_uri": "https://localhost:8080/",
     "height": 466
    },
    "colab_type": "code",
    "id": "XUREtv7yeqCh",
    "outputId": "0ae9d755-e28d-45be-bf65-c7064622b6d7"
   },
   "outputs": [
    {
     "data": {
      "image/png": "[encoded data removed]",
      "text/plain": [
       "<Figure size 720x576 with 1 Axes>"
      ]
     },
     "metadata": {
      "needs_background": "light"
     },
     "output_type": "display_data"
    }
   ],
   "source": [
    "img_matrix = test_image.reshape((28, 28))\n",
    "plt.imshow(img_matrix, plt.get_cmap('gray'));\n",
    "plt.axis('off')\n",
    "plt.show()"
   ]
  },
  {
   "cell_type": "markdown",
   "metadata": {
    "colab_type": "text",
    "id": "K5C5pdgYeqCk"
   },
   "source": [
    "**Classroom exercise:** compute all distances from the `test_image` to the `train_images` in the dataset"
   ]
  },
  {
   "cell_type": "code",
   "execution_count": 16,
   "metadata": {
    "colab": {
     "base_uri": "https://localhost:8080/",
     "height": 35
    },
    "colab_type": "code",
    "id": "-wSVGX-ZeqCk",
    "outputId": "f32a71bf-3ab0-4413-83ea-194a84262e05"
   },
   "outputs": [
    {
     "data": {
      "text/plain": [
       "[10.115574, 9.505396, 9.084774, 9.745117, 8.398525]"
      ]
     },
     "execution_count": 16,
     "metadata": {},
     "output_type": "execute_result"
    }
   ],
   "source": [
    "##### YOUR CODE STARTS #####\n",
    "all_distances = [dist(test_image, image) for image in train_images]\n",
    "##### YOUR CODE ENDS ##### (please do not delete this line)\n",
    "all_distances[0:5]"
   ]
  },
  {
   "cell_type": "markdown",
   "metadata": {
    "colab_type": "text",
    "id": "NmGWAy6seqCm"
   },
   "source": [
    "Now let's find out which image is closest to our `test_image`"
   ]
  },
  {
   "cell_type": "code",
   "execution_count": 17,
   "metadata": {
    "colab": {},
    "colab_type": "code",
    "id": "fF6B4I-beqCn"
   },
   "outputs": [],
   "source": [
    "i = np.argmin(all_distances)"
   ]
  },
  {
   "cell_type": "markdown",
   "metadata": {
    "colab_type": "text",
    "id": "tuM8j03ueqCq"
   },
   "source": [
    "Almost done, now report a label with index `i` in `train_labels`"
   ]
  },
  {
   "cell_type": "code",
   "execution_count": 18,
   "metadata": {
    "colab": {},
    "colab_type": "code",
    "id": "x6CEvuHEeqCq"
   },
   "outputs": [],
   "source": [
    "predicted_label = train_labels[i]"
   ]
  },
  {
   "cell_type": "markdown",
   "metadata": {
    "colab_type": "text",
    "id": "gPqeP2-reqCt"
   },
   "source": [
    "Compare it to the true label of the first image in the `train_labels`"
   ]
  },
  {
   "cell_type": "code",
   "execution_count": 19,
   "metadata": {
    "colab": {
     "base_uri": "https://localhost:8080/",
     "height": 35
    },
    "colab_type": "code",
    "id": "rCn1qwKoeqCz",
    "outputId": "6e7cfd88-1fff-49d1-9215-38f5008e9fb2"
   },
   "outputs": [
    {
     "name": "stdout",
     "output_type": "stream",
     "text": [
      "Predicted class for the first image is 8 and the true label is 8\n"
     ]
    }
   ],
   "source": [
    "print(f\"Predicted class for the first image is {predicted_label} and the true label is {test_label}\")"
   ]
  },
  {
   "cell_type": "markdown",
   "metadata": {
    "colab_type": "text",
    "id": "JmMSNVMqfgjk"
   },
   "source": [
    "Here we can visualise the nearest in terms of the Eucledian distance image from the `train_images`"
   ]
  },
  {
   "cell_type": "code",
   "execution_count": 20,
   "metadata": {
    "colab": {
     "base_uri": "https://localhost:8080/",
     "height": 466
    },
    "colab_type": "code",
    "id": "Vhdry7k2eqC1",
    "outputId": "925eb607-8a1f-457a-b993-c766e1601af2"
   },
   "outputs": [
    {
     "data": {
      "image/png": "[encoded data removed]",
      "text/plain": [
       "<Figure size 720x576 with 1 Axes>"
      ]
     },
     "metadata": {
      "needs_background": "light"
     },
     "output_type": "display_data"
    }
   ],
   "source": [
    "img_matrix = train_images[i,:].reshape((28, 28))\n",
    "plt.imshow(img_matrix, plt.get_cmap('gray'));\n",
    "plt.axis('off')\n",
    "plt.show()"
   ]
  },
  {
   "cell_type": "markdown",
   "metadata": {
    "colab_type": "text",
    "id": "mKBRz8GNeqC4"
   },
   "source": [
    "**Classroom exercise:** Now we should make a function out of the code we have already written. "
   ]
  },
  {
   "cell_type": "code",
   "execution_count": 34,
   "metadata": {
    "colab": {},
    "colab_type": "code",
    "id": "V50nuLureqC5"
   },
   "outputs": [],
   "source": [
    "def classify(image):\n",
    "    ##### YOUR CODE STARTS #####\n",
    "    all_distances = [dist(image, img) for img in train_images]\n",
    "    prediction =  train_labels[np.argmin(all_distances)]\n",
    "    ##### YOUR CODE ENDS ##### (please do not delete this line)\n",
    "    return prediction"
   ]
  },
  {
   "cell_type": "markdown",
   "metadata": {
    "colab_type": "text",
    "id": "lf4oXlzteqC8"
   },
   "source": [
    "Let's test this function to verify that it works"
   ]
  },
  {
   "cell_type": "code",
   "execution_count": 35,
   "metadata": {
    "colab": {
     "base_uri": "https://localhost:8080/",
     "height": 35
    },
    "colab_type": "code",
    "id": "T0_npOGYeqC-",
    "outputId": "e3e02910-6c8c-4532-8c5c-8d42fd9dbbe1"
   },
   "outputs": [
    {
     "name": "stdout",
     "output_type": "stream",
     "text": [
      "Predicted class for the first image is 8 and the true label is 8\n"
     ]
    }
   ],
   "source": [
    "print(f\"Predicted class for the first image is {classify(test_image)} and the true label is {test_label}\")"
   ]
  },
  {
   "cell_type": "markdown",
   "metadata": {
    "colab_type": "text",
    "id": "8s9g__SbqW30"
   },
   "source": [
    "One very popular variation of Nearest Neighbour is K-nearest neighbour. In this algorithm a label for a new instance is chosen by majority vote by **`k`** of its nearest neighbors. \n",
    "\n",
    "The actual algorithm is not very different from vanila nearest neighbour:\n",
    "\n",
    "1. Compute distances to all points in the dataset\n",
    "2. Find the **`k`** closest points (you may consider using `np.argsort` function)\n",
    "3. Report the most popular label from these **`k`**. (maybe `np.bincount` can help)"
   ]
  },
  {
   "cell_type": "markdown",
   "metadata": {
    "colab_type": "text",
    "id": "tz9XASPxeqDC"
   },
   "source": [
    "## Homework exercise 1 (3 points): KNN\n",
    "\n",
    "<font color='red'>**(a)** Implement the aformentioned algorithm in the cell below (2 points)</font>"
   ]
  },
  {
   "cell_type": "code",
   "execution_count": 41,
   "metadata": {
    "colab": {},
    "colab_type": "code",
    "id": "J91vFM8yeqDC"
   },
   "outputs": [],
   "source": [
    "def classify_knn(image, k):\n",
    "    ##### YOUR CODE STARTS #####\n",
    "    all_distances = [dist(image, img) for img in train_images]\n",
    "    knn = np.argsort(all_distances)[0:k]\n",
    "#   print(knn)\n",
    "# uncomment for part (b)\n",
    "#     print(\"K nearest labes are: %s\\n\" %train_labels[knn])\n",
    "    counts = np.bincount(train_labels[knn])\n",
    "#   print(counts)\n",
    "    prediction = np.argmax(counts)\n",
    "    ##### YOUR CODE ENDS ##### (please do not delete this line)\n",
    "    return prediction"
   ]
  },
  {
   "cell_type": "markdown",
   "metadata": {
    "colab_type": "text",
    "id": "lpP9LIhWeqDE"
   },
   "source": [
    "Test the function on `test_image`:"
   ]
  },
  {
   "cell_type": "code",
   "execution_count": 42,
   "metadata": {
    "colab": {
     "base_uri": "https://localhost:8080/",
     "height": 90
    },
    "colab_type": "code",
    "id": "a1ZjNWxzeqDF",
    "outputId": "b8d3bb8a-6d83-4b56-98aa-e85a8b7f4680"
   },
   "outputs": [
    {
     "name": "stdout",
     "output_type": "stream",
     "text": [
      "Predicted class for the first image is 8 and the true label is 8\n"
     ]
    }
   ],
   "source": [
    "print(f\"Predicted class for the first image is {classify_knn(test_image, 10)} and the true label is {test_label}\")"
   ]
  },
  {
   "cell_type": "markdown",
   "metadata": {
    "colab_type": "text",
    "id": "RkIbSADBjCpB"
   },
   "source": [
    "<font color='red'>**(b)** Modify the function `classify_knn` adding a print statement that outputs labels of K nearest labels. Report 10 nearest neighbours  for the `test_image`. Explain its output in the cell below. (1 point) </font>"
   ]
  },
  {
   "cell_type": "markdown",
   "metadata": {
    "colab_type": "text",
    "id": "TzlSQ4zPqj-J"
   },
   "source": [
    "Answer to (b): Execution result with print statement is <br>\n",
    "K nearest labes are: [8 8 8 8 5 4 8 8 8 5]\n",
    "\n",
    "In the output we could see that in addition to correct label \"8\" there are also misclassified labels \"4\" and \"5\". Handwritten characters \"4\" and \"5\" indeed sometimes could look like handwritten \"8\", but those misclassified labels respesent minor portion (3 out of 10) of the K nearest labels. From output itself we could see that majority of K nearest labels are labels \"8\" and because of this our predicted result will be label \"8\". "
   ]
  },
  {
   "cell_type": "markdown",
   "metadata": {
    "colab_type": "text",
    "id": "YKcSRNayg9r7"
   },
   "source": [
    "Seems like Nearest Neighbor works, indeed! Apply it to all 1000 test images and then estimate it's effectivness.\n",
    "\n",
    "**Classroom exercise:** Classify all test images and store them into a separate variable `test_predicted`, choose `k` = 10. **NB, don't forget to uncomment all print statements inside the function!**"
   ]
  },
  {
   "cell_type": "code",
   "execution_count": 25,
   "metadata": {
    "colab": {},
    "colab_type": "code",
    "id": "8oIBNn6YgbK9"
   },
   "outputs": [],
   "source": [
    "test_predicted = [classify_knn(image, 10) for image in test_images]"
   ]
  },
  {
   "cell_type": "markdown",
   "metadata": {
    "colab_type": "text",
    "id": "pXLR_7dOkK7p"
   },
   "source": [
    "How many instances from the test set the classifier has predicted correctly?"
   ]
  },
  {
   "cell_type": "code",
   "execution_count": 43,
   "metadata": {
    "colab": {
     "base_uri": "https://localhost:8080/",
     "height": 35
    },
    "colab_type": "code",
    "id": "7piY3yeZkNC_",
    "outputId": "94aa43e7-7f3a-4cf6-aa5b-e32d625e3c10"
   },
   "outputs": [
    {
     "name": "stdout",
     "output_type": "stream",
     "text": [
      "Number of correctly predicted images is 863\n"
     ]
    }
   ],
   "source": [
    "n_correct = np.sum(test_predicted == test_labels)\n",
    "print(f\"Number of correctly predicted images is {n_correct}\")"
   ]
  },
  {
   "cell_type": "markdown",
   "metadata": {
    "colab_type": "text",
    "id": "qPM7UHbHkXIb"
   },
   "source": [
    "Now we will use **`accuracy`** (namely, proportion of correctly guessed classes) to estimate the performance of our nearest neighbor classifier. For that we need to divide number of correctly predicted images by total number of images."
   ]
  },
  {
   "cell_type": "code",
   "execution_count": 27,
   "metadata": {
    "colab": {
     "base_uri": "https://localhost:8080/",
     "height": 35
    },
    "colab_type": "code",
    "id": "_a9_1ZgKkRVf",
    "outputId": "d9a860aa-3e61-4263-8427-02f115d5d918"
   },
   "outputs": [
    {
     "name": "stdout",
     "output_type": "stream",
     "text": [
      "Final accuracy of our nearest neighbor classifier is 0.863. Not bad!\n"
     ]
    }
   ],
   "source": [
    "nn_accuracy = n_correct/len(test_labels)\n",
    "print(f\"Final accuracy of our nearest neighbor classifier is {nn_accuracy}. Not bad!\")"
   ]
  },
  {
   "cell_type": "markdown",
   "metadata": {
    "colab_type": "text",
    "id": "h12yXjMPk8Kz"
   },
   "source": [
    "Let's examine some of the missclassified examples.\n"
   ]
  },
  {
   "cell_type": "code",
   "execution_count": 96,
   "metadata": {
    "colab": {
     "base_uri": "https://localhost:8080/",
     "height": 484
    },
    "colab_type": "code",
    "id": "pPAjmuQdki1Q",
    "outputId": "b812e12b-3f71-4865-8e13-874d330f7318"
   },
   "outputs": [
    {
     "name": "stdout",
     "output_type": "stream",
     "text": [
      "This image with 4 was incorrectly predicted as 9\n"
     ]
    },
    {
     "data": {
      "image/png": "[encoded data removed]",
      "text/plain": [
       "<Figure size 720x576 with 1 Axes>"
      ]
     },
     "metadata": {
      "needs_background": "light"
     },
     "output_type": "display_data"
    }
   ],
   "source": [
    "missclassified = np.where(test_predicted != test_labels)[0]\n",
    "\n",
    "# Set an index of missclassified instance you want to examine\n",
    "index = 1\n",
    "\n",
    "# Plot this instance as usual\n",
    "img_matrix = test_images[missclassified[index]].reshape((28, 28))\n",
    "plt.imshow(img_matrix, plt.get_cmap('gray'))\n",
    "plt.axis('off')\n",
    "print(f\"This image with {test_labels[missclassified[index]]} was incorrectly predicted as {test_predicted[missclassified[index]]}\")"
   ]
  },
  {
   "cell_type": "markdown",
   "metadata": {
    "colab_type": "text",
    "id": "X2xsOtQCuHla"
   },
   "source": [
    "## Homework exercise 2 (3 points): exploring misclassified examples\n",
    "<font color='red'>**(a)** Modify the visualisation code that we used to visualise a grid of example images from different classes. Instead of random examples for each class, visualise misclassified examples from each class. For example, in the first column visualise images that had true label `0` but were classified as something else, in the second column, show examples of images that had label `1` but were misclassified into another class and so on. Add a title to each small image, in the following format `true_label, predicted_label`. (2 points)</font>"
   ]
  },
  {
   "cell_type": "code",
   "execution_count": 216,
   "metadata": {
    "colab": {},
    "colab_type": "code",
    "id": "XzVSFpyjlS2d",
    "scrolled": false
   },
   "outputs": [
    {
     "data": {
      "image/png": "[encoded data removed]",
      "text/plain": [
       "<Figure size 1440x2160 with 137 Axes>"
      ]
     },
     "metadata": {
      "needs_background": "light"
     },
     "output_type": "display_data"
    }
   ],
   "source": [
    "plt.rcParams['figure.figsize'] = (20.0, 30.0) # set default size of plots\n",
    "plt.rcParams['figure.subplot.hspace'] = 0.9 #I've to add this parameter for nice visualization\n",
    "# \"Names\" of classes:\n",
    "classes =  ['0', '1', '2', '3', '4', '5', '6', '7', '8', '9']\n",
    "\n",
    "num_classes = len(classes)\n",
    "samples_per_class = 40 # Number of images from each class we want to see. Also have to chage it to display all plots\n",
    "for y, cls in enumerate(classes):\n",
    "    ##### YOUR CODE STARTS #####\n",
    "    test_predicted_array = np.array(test_predicted)\n",
    "    idxs = np.flatnonzero(test_labels[missclassified] == y)\n",
    "    if len(idxs) < samples_per_class:\n",
    "        samples = len(idxs)\n",
    "    else:\n",
    "        samples = samples_per_class\n",
    "    for i, idx in enumerate(idxs):\n",
    "        plt_idx = i * num_classes + y + 1\n",
    "        title_str = str(test_labels[missclassified][idx])+ ',' + str(test_predicted_array[missclassified][idx])\n",
    "        plt.subplot(samples_per_class, num_classes, plt_idx, title=title_str )\n",
    "        plt.imshow(test_images[missclassified][idx].reshape((28, 28)), plt.get_cmap('gray'))\n",
    "        plt.axis('off')\n",
    "    ##### YOUR CODE ENDS ##### (please do not delete this line)\n",
    "plt.show()"
   ]
  },
  {
   "cell_type": "markdown",
   "metadata": {
    "colab_type": "text",
    "id": "73G5hFzrxrVc"
   },
   "source": [
    "<font color='red'>**(b)** What is your take away from this figure? Are all classes equally missclassified? Why? Are there any classes that KNN confuses more often, why? (1 point) </font>"
   ]
  },
  {
   "cell_type": "markdown",
   "metadata": {
    "colab_type": "text",
    "id": "rmNqSRNiysh-"
   },
   "source": [
    "Answer to (b): Class \"1\" never  misclassified in our case. All pictures with \"1\" was properly classified. Clases \"0\" and \"6\" very seldom misclassified. Most misclassified class is \"8\". Other clases somewhere in between. I think such difference in misclassification caused by how many classes exist with simillarities in handwritten shape. For example, class \"8\" often misclassified with \"3\", \"9\", \"0\", \"5\" and \"6\" which is caused by fact that handwritten \"8\" has element of all mentioned classes. Just  to name few - handwritten \"3\" is right part of \"8\" and \"9\" will look like 3/4 of handwritten \"8\". That is the reason why \"8\" misclassified so often. Another observation - class \"4\" often misclassified with class \"9\". And reason here is exactly the same - handwritten \"4\" looks like handwritten \"9\" without some elements. Also clases \"3\" and \"5\" will be misclassified between each other and so on. In all cases reason is - simillarities in shape of handwritten characters. Also we need to take into account how particular characters written, because some of them written in a way that even human being won't be able to classify those properly. \n",
    "\n",
    "From my point of view KNN confuses a lot either badly written classes which even human could not recognize porperly or classes which have handwritten shape with majority of simillar elements like \"3\" and \"8\" and so on."
   ]
  },
  {
   "cell_type": "markdown",
   "metadata": {
    "colab_type": "text",
    "id": "NZDsFKpngFK1"
   },
   "source": [
    "### Scikit-learn"
   ]
  },
  {
   "cell_type": "markdown",
   "metadata": {
    "colab_type": "text",
    "id": "8eNqmHxsgFK2"
   },
   "source": [
    "Now let us use the Scikit-Learn package to train the Nearest Neigbor classifier.\n",
    "\n",
    "Most of the models that we are going to use are implemented in scikit-learn, for example KNN is available under the name `KNNeiborsClassifier`. All you need to do is to import it from `sklearn` (this a short name for scikit-learn)."
   ]
  },
  {
   "cell_type": "code",
   "execution_count": 172,
   "metadata": {
    "colab": {},
    "colab_type": "code",
    "id": "OV7PNg-wgFK3"
   },
   "outputs": [],
   "source": [
    "import sklearn\n",
    "from sklearn.neighbors import KNeighborsClassifier"
   ]
  },
  {
   "cell_type": "markdown",
   "metadata": {
    "colab_type": "text",
    "id": "h0Kwi4szgFK5"
   },
   "source": [
    "Let's create an instance of the KNN classifier by calling a `KNeighborsClassifier()` function. As an input parameter you can specify `k`. For example 5 nearest neighbour classifier is created like this:"
   ]
  },
  {
   "cell_type": "code",
   "execution_count": 173,
   "metadata": {
    "colab": {},
    "colab_type": "code",
    "id": "k8yL3NTqgFK5"
   },
   "outputs": [],
   "source": [
    "model = KNeighborsClassifier(10)"
   ]
  },
  {
   "cell_type": "markdown",
   "metadata": {
    "colab_type": "text",
    "id": "wyXtNqpFgFK9"
   },
   "source": [
    "Most of the scikit-learn models have method `fit` that let you train the classifier given training instances and correct labels:"
   ]
  },
  {
   "cell_type": "code",
   "execution_count": 174,
   "metadata": {
    "colab": {
     "base_uri": "https://localhost:8080/",
     "height": 72
    },
    "colab_type": "code",
    "id": "6bgzqOEYgFK-",
    "outputId": "ac9ddeff-f058-404d-a435-09e96e9e2718"
   },
   "outputs": [
    {
     "data": {
      "text/plain": [
       "KNeighborsClassifier(algorithm='auto', leaf_size=30, metric='minkowski',\n",
       "                     metric_params=None, n_jobs=None, n_neighbors=10, p=2,\n",
       "                     weights='uniform')"
      ]
     },
     "execution_count": 174,
     "metadata": {},
     "output_type": "execute_result"
    }
   ],
   "source": [
    "model.fit(train_images, train_labels)"
   ]
  },
  {
   "cell_type": "markdown",
   "metadata": {
    "colab_type": "text",
    "id": "NAHwRm4igFLA"
   },
   "source": [
    "**Classroom exercise:** Use trained nearest neighbor classifier (`model`) to predict `test_images` and then calculate the accuracy. How does it compare to the one we obtained in the class?"
   ]
  },
  {
   "cell_type": "code",
   "execution_count": 175,
   "metadata": {
    "colab": {
     "base_uri": "https://localhost:8080/",
     "height": 35
    },
    "colab_type": "code",
    "id": "1YfjlFlFgFLB",
    "outputId": "0b4c12f0-3333-49b8-e9d2-929286906a69"
   },
   "outputs": [
    {
     "name": "stdout",
     "output_type": "stream",
     "text": [
      "Number of correctly predicted images is 863\n"
     ]
    }
   ],
   "source": [
    "##### YOUR CODE STARTS #####\n",
    "n_correct = np.sum(model.predict(test_images) == test_labels)\n",
    "##### YOUR CODE ENDS ##### (please do not delete this line)\n",
    "print(f\"Number of correctly predicted images is {n_correct}\")"
   ]
  },
  {
   "cell_type": "markdown",
   "metadata": {
    "colab_type": "text",
    "id": "mLDk2_c3P6_j"
   },
   "source": [
    "# Regression\n",
    "\n",
    "## Small 2D example\n",
    "\n",
    "Here we will create a small toy dataset for playing around with some regression algorithms."
   ]
  },
  {
   "cell_type": "code",
   "execution_count": 176,
   "metadata": {
    "colab": {},
    "colab_type": "code",
    "id": "Q255sYHwP7SS"
   },
   "outputs": [],
   "source": [
    "import numpy as np \n",
    "import pandas as pd\n",
    "\n",
    "example_data = pd.DataFrame({'distance':[1,2,3,4,5], 'fare_amount':[2,4,5,4,5]})"
   ]
  },
  {
   "cell_type": "markdown",
   "metadata": {
    "colab_type": "text",
    "id": "narJIhxlpKTy"
   },
   "source": [
    "You can access columns using `.` notation and name of the column, e.g.:"
   ]
  },
  {
   "cell_type": "code",
   "execution_count": 177,
   "metadata": {
    "colab": {
     "base_uri": "https://localhost:8080/",
     "height": 126
    },
    "colab_type": "code",
    "id": "4AcFY5iOpJsm",
    "outputId": "c3cddcd2-0288-40f5-996f-879690e1f739"
   },
   "outputs": [
    {
     "data": {
      "text/plain": [
       "0    2\n",
       "1    4\n",
       "2    5\n",
       "3    4\n",
       "4    5\n",
       "Name: fare_amount, dtype: int64"
      ]
     },
     "execution_count": 177,
     "metadata": {},
     "output_type": "execute_result"
    }
   ],
   "source": [
    "example_data.fare_amount"
   ]
  },
  {
   "cell_type": "markdown",
   "metadata": {
    "colab_type": "text",
    "id": "JBK_tjSDzMeo"
   },
   "source": [
    "The following is my attempt to reproduce figures exactly as in lecture slides. Never mind, you will be able to use regular `matplotlib` as before if you like."
   ]
  },
  {
   "cell_type": "code",
   "execution_count": 178,
   "metadata": {
    "colab": {
     "base_uri": "https://localhost:8080/",
     "height": 326
    },
    "colab_type": "code",
    "id": "_uZnwxr6RxyF",
    "outputId": "d8dc300b-71d7-4ae2-ff2b-f7e9ecc14814"
   },
   "outputs": [
    {
     "name": "stdout",
     "output_type": "stream",
     "text": [
      "Collecting plotnine\n",
      "  Downloading plotnine-0.6.0-py3-none-any.whl (4.1 MB)\n",
      "Requirement already satisfied: patsy>=0.4.1 in c:\\users\\mykhaylo_manukyan\\appdata\\local\\continuum\\anaconda3\\lib\\site-packages (from plotnine) (0.5.1)\n",
      "Collecting descartes>=1.1.0\n",
      "  Downloading descartes-1.1.0-py3-none-any.whl (5.8 kB)\n",
      "Collecting mizani>=0.6.0\n",
      "  Downloading mizani-0.6.0-py2.py3-none-any.whl (61 kB)\n",
      "Requirement already satisfied: scipy>=1.2.0 in c:\\users\\mykhaylo_manukyan\\appdata\\local\\continuum\\anaconda3\\lib\\site-packages (from plotnine) (1.3.2)\n",
      "Requirement already satisfied: numpy>=1.16.0 in c:\\users\\mykhaylo_manukyan\\appdata\\local\\continuum\\anaconda3\\lib\\site-packages (from plotnine) (1.18.1)\n",
      "Requirement already satisfied: matplotlib>=3.1.1 in c:\\users\\mykhaylo_manukyan\\appdata\\local\\continuum\\anaconda3\\lib\\site-packages (from plotnine) (3.1.1)\n",
      "Requirement already satisfied: statsmodels>=0.9.0 in c:\\users\\mykhaylo_manukyan\\appdata\\local\\continuum\\anaconda3\\lib\\site-packages (from plotnine) (0.11.0)\n",
      "Requirement already satisfied: pandas>=0.25.0 in c:\\users\\mykhaylo_manukyan\\appdata\\local\\continuum\\anaconda3\\lib\\site-packages (from plotnine) (0.25.3)\n",
      "Requirement already satisfied: six in c:\\users\\mykhaylo_manukyan\\appdata\\roaming\\python\\python37\\site-packages (from patsy>=0.4.1->plotnine) (1.12.0)\n",
      "Collecting palettable\n",
      "  Downloading palettable-3.3.0-py2.py3-none-any.whl (111 kB)\n",
      "Requirement already satisfied: cycler>=0.10 in c:\\users\\mykhaylo_manukyan\\appdata\\local\\continuum\\anaconda3\\lib\\site-packages (from matplotlib>=3.1.1->plotnine) (0.10.0)\n",
      "Requirement already satisfied: kiwisolver>=1.0.1 in c:\\users\\mykhaylo_manukyan\\appdata\\local\\continuum\\anaconda3\\lib\\site-packages (from matplotlib>=3.1.1->plotnine) (1.1.0)\n",
      "Requirement already satisfied: pyparsing!=2.0.4,!=2.1.2,!=2.1.6,>=2.0.1 in c:\\users\\mykhaylo_manukyan\\appdata\\local\\continuum\\anaconda3\\lib\\site-packages (from matplotlib>=3.1.1->plotnine) (2.4.6)\n",
      "Requirement already satisfied: python-dateutil>=2.1 in c:\\users\\mykhaylo_manukyan\\appdata\\local\\continuum\\anaconda3\\lib\\site-packages (from matplotlib>=3.1.1->plotnine) (2.8.1)\n",
      "Requirement already satisfied: pytz>=2017.2 in c:\\users\\mykhaylo_manukyan\\appdata\\local\\continuum\\anaconda3\\lib\\site-packages (from pandas>=0.25.0->plotnine) (2019.3)\n",
      "Requirement already satisfied: setuptools in c:\\users\\mykhaylo_manukyan\\appdata\\local\\continuum\\anaconda3\\lib\\site-packages (from kiwisolver>=1.0.1->matplotlib>=3.1.1->plotnine) (45.1.0.post20200127)\n",
      "Installing collected packages: descartes, palettable, mizani, plotnine\n",
      "Successfully installed descartes-1.1.0 mizani-0.6.0 palettable-3.3.0 plotnine-0.6.0\n"
     ]
    },
    {
     "name": "stderr",
     "output_type": "stream",
     "text": [
      "WARNING: pip is being invoked by an old script wrapper. This will fail in a future version of pip.\n",
      "Please see https://github.com/pypa/pip/issues/5599 for advice on fixing the underlying issue.\n",
      "To avoid this problem you can invoke Python with '-m pip' instead of running pip directly.\n"
     ]
    }
   ],
   "source": [
    "# Plotting as in ggplot2\n",
    "!pip install plotnine\n",
    "from plotnine import *"
   ]
  },
  {
   "cell_type": "code",
   "execution_count": 179,
   "metadata": {
    "colab": {
     "base_uri": "https://localhost:8080/",
     "height": 480
    },
    "colab_type": "code",
    "id": "6Gx5SkM9RsA0",
    "outputId": "d230237c-7600-4399-f81d-e3becaea9536"
   },
   "outputs": [
    {
     "data": {
      "image/png": "[encoded data removed]",
      "text/plain": [
       "<Figure size 500x500 with 1 Axes>"
      ]
     },
     "metadata": {},
     "output_type": "display_data"
    },
    {
     "data": {
      "text/plain": [
       "<ggplot: (147670908203)>"
      ]
     },
     "execution_count": 179,
     "metadata": {},
     "output_type": "execute_result"
    }
   ],
   "source": [
    "fig = (\n",
    "    ggplot(data = example_data,\n",
    "          mapping = aes(x = 'distance', y = 'fare_amount')) +\n",
    "    geom_point(fill = '#36B059', \n",
    "               size = 5.0,\n",
    "               stroke = 2.5,\n",
    "               colour = '#2BE062',\n",
    "               shape = 'o') +\n",
    "    labs(\n",
    "        title ='',\n",
    "        x = 'distance',\n",
    "        y = 'fare amount',\n",
    "    ) +\n",
    "    xlim(0, 6) +\n",
    "    ylim(0, 7) +\n",
    "    theme_bw() + \n",
    "    theme(figure_size = (5, 5),\n",
    "          axis_line = element_line(size = 0.5, colour = \"black\"),\n",
    "          panel_grid_major = element_line(size = 0.05, colour = \"black\"),\n",
    "          panel_grid_minor = element_line(size = 0.05, colour = \"black\"),\n",
    "          axis_text = element_text(colour ='black'))\n",
    ")\n",
    "fig"
   ]
  },
  {
   "cell_type": "markdown",
   "metadata": {
    "colab_type": "text",
    "id": "MBnG26L6SvV-"
   },
   "source": [
    "### Linear regression on a toy example\n",
    "**Classroom exercise**: find value of **`intercept`**,  using precalculated **`slope`** (`w1`) and the equation of the line (`y = intercept + slope*x`). Remember that in this example `x` is `distance` and `y` is `fare_amount`."
   ]
  },
  {
   "cell_type": "code",
   "execution_count": 180,
   "metadata": {
    "colab": {
     "base_uri": "https://localhost:8080/",
     "height": 35
    },
    "colab_type": "code",
    "id": "q0wS730hP8p6",
    "outputId": "046d8fbb-19f3-43b3-e5d1-41191a935ce0"
   },
   "outputs": [
    {
     "name": "stdout",
     "output_type": "stream",
     "text": [
      "w1 = 0.6; intercept = 2.2, while the correct values are w1 = 0.6 and intercept = 2.2\n"
     ]
    }
   ],
   "source": [
    "##### YOUR CODE STARTS #####\n",
    "w1 = np.sum((example_data.distance - example_data.distance.mean())*(example_data.fare_amount - example_data.fare_amount.mean()))/np.sum((example_data.distance - example_data.distance.mean())**2)\n",
    "intercept = example_data.fare_amount.mean() - w1*example_data.distance.mean()\n",
    "##### YOUR CODE ENDS ##### (please do not delete this line)\n",
    "print(f\"w1 = {w1}; intercept = {intercept}, while the correct values are w1 = 0.6 and intercept = 2.2\")"
   ]
  },
  {
   "cell_type": "markdown",
   "metadata": {
    "colab_type": "text",
    "id": "aFX1opwLVFu2"
   },
   "source": [
    "We can now plug in these coefficients to visually examine regression line that we have computed"
   ]
  },
  {
   "cell_type": "code",
   "execution_count": 181,
   "metadata": {
    "colab": {
     "base_uri": "https://localhost:8080/",
     "height": 480
    },
    "colab_type": "code",
    "id": "VHWrTU2AEPqV",
    "outputId": "a08d14af-2ac0-44cc-9459-fa9c1287ee1c"
   },
   "outputs": [
    {
     "data": {
      "image/png": "[encoded data removed]",
      "text/plain": [
       "<Figure size 500x500 with 1 Axes>"
      ]
     },
     "metadata": {},
     "output_type": "display_data"
    },
    {
     "data": {
      "text/plain": [
       "<ggplot: (147670937271)>"
      ]
     },
     "execution_count": 181,
     "metadata": {},
     "output_type": "execute_result"
    }
   ],
   "source": [
    "fig + geom_abline(intercept = intercept, slope = w1, color=\"black\", linetype=\"dashed\", size=1.5)"
   ]
  },
  {
   "cell_type": "markdown",
   "metadata": {
    "colab_type": "text",
    "id": "y8RlGcKHUKLZ"
   },
   "source": [
    "We can compare our regression line with a regression line computed by Python"
   ]
  },
  {
   "cell_type": "code",
   "execution_count": 182,
   "metadata": {
    "colab": {
     "base_uri": "https://localhost:8080/",
     "height": 537
    },
    "colab_type": "code",
    "id": "c5zVWrYsETu-",
    "outputId": "90c96070-5751-4621-8abd-833a0f55f5c0"
   },
   "outputs": [
    {
     "name": "stderr",
     "output_type": "stream",
     "text": [
      "C:\\Users\\Mykhaylo_Manukyan\\AppData\\Local\\Continuum\\anaconda3\\lib\\site-packages\\numpy\\core\\fromnumeric.py:2542: FutureWarning: Method .ptp is deprecated and will be removed in a future version. Use numpy.ptp instead.\n",
      "  return ptp(axis=axis, out=out, **kwargs)\n"
     ]
    },
    {
     "data": {
      "image/png": "[encoded data removed]",
      "text/plain": [
       "<Figure size 500x500 with 1 Axes>"
      ]
     },
     "metadata": {},
     "output_type": "display_data"
    },
    {
     "data": {
      "text/plain": [
       "<ggplot: (-9223371889172791580)>"
      ]
     },
     "execution_count": 182,
     "metadata": {},
     "output_type": "execute_result"
    }
   ],
   "source": [
    "fig + geom_abline(intercept = intercept, slope = w1, color=\"black\", linetype=\"dashed\", size=1.5) + geom_smooth(method = 'lm', se = False, colour = 'red')"
   ]
  },
  {
   "cell_type": "markdown",
   "metadata": {
    "colab_type": "text",
    "id": "2592NFjoX83f"
   },
   "source": [
    "### Decision tree (DT) algorithm\n",
    "We will borrow DT algorithm from sklearn package as linear regression. Sklearn has both `DecisionTreeRegressor` and `DecisionTreeClassifier` at its disposal. For now, let's use regressor."
   ]
  },
  {
   "cell_type": "code",
   "execution_count": 183,
   "metadata": {
    "colab": {},
    "colab_type": "code",
    "id": "Kr2p9vu0QZ6O"
   },
   "outputs": [],
   "source": [
    "from sklearn.tree import DecisionTreeRegressor\n",
    "dtr=DecisionTreeRegressor(max_depth = 5)"
   ]
  },
  {
   "cell_type": "markdown",
   "metadata": {
    "colab_type": "text",
    "id": "vawPyvl1YGNk"
   },
   "source": [
    "we use function `fit` to train newly created DT instance on our `example_data`"
   ]
  },
  {
   "cell_type": "code",
   "execution_count": 184,
   "metadata": {
    "colab": {
     "base_uri": "https://localhost:8080/",
     "height": 126
    },
    "colab_type": "code",
    "id": "ODKVb6OrXtDA",
    "outputId": "3e49e73c-d9ba-401c-d595-4ad5be0cfd4c"
   },
   "outputs": [
    {
     "data": {
      "text/plain": [
       "DecisionTreeRegressor(ccp_alpha=0.0, criterion='mse', max_depth=5,\n",
       "                      max_features=None, max_leaf_nodes=None,\n",
       "                      min_impurity_decrease=0.0, min_impurity_split=None,\n",
       "                      min_samples_leaf=1, min_samples_split=2,\n",
       "                      min_weight_fraction_leaf=0.0, presort='deprecated',\n",
       "                      random_state=None, splitter='best')"
      ]
     },
     "execution_count": 184,
     "metadata": {},
     "output_type": "execute_result"
    }
   ],
   "source": [
    "dtr.fit(np.array(example_data.distance).reshape(-1, 1), example_data.fare_amount)"
   ]
  },
  {
   "cell_type": "markdown",
   "metadata": {
    "colab_type": "text",
    "id": "in9l7yuuTKxi"
   },
   "source": [
    "### Creating a synthetic test set that would cover up the whole space"
   ]
  },
  {
   "cell_type": "code",
   "execution_count": 185,
   "metadata": {
    "colab": {
     "base_uri": "https://localhost:8080/",
     "height": 206
    },
    "colab_type": "code",
    "id": "lm72D7nAQBKs",
    "outputId": "9152cdbe-da9b-4b7f-8e31-b56c1baa91e9"
   },
   "outputs": [
    {
     "data": {
      "text/html": [
       "<div>\n",
       "<style scoped>\n",
       "    .dataframe tbody tr th:only-of-type {\n",
       "        vertical-align: middle;\n",
       "    }\n",
       "\n",
       "    .dataframe tbody tr th {\n",
       "        vertical-align: top;\n",
       "    }\n",
       "\n",
       "    .dataframe thead th {\n",
       "        text-align: right;\n",
       "    }\n",
       "</style>\n",
       "<table border=\"1\" class=\"dataframe\">\n",
       "  <thead>\n",
       "    <tr style=\"text-align: right;\">\n",
       "      <th></th>\n",
       "      <th>distance</th>\n",
       "      <th>fare_amount</th>\n",
       "    </tr>\n",
       "  </thead>\n",
       "  <tbody>\n",
       "    <tr>\n",
       "      <th>0</th>\n",
       "      <td>0.0</td>\n",
       "      <td>0.0</td>\n",
       "    </tr>\n",
       "    <tr>\n",
       "      <th>1</th>\n",
       "      <td>0.0</td>\n",
       "      <td>0.1</td>\n",
       "    </tr>\n",
       "    <tr>\n",
       "      <th>2</th>\n",
       "      <td>0.0</td>\n",
       "      <td>0.2</td>\n",
       "    </tr>\n",
       "    <tr>\n",
       "      <th>3</th>\n",
       "      <td>0.0</td>\n",
       "      <td>0.3</td>\n",
       "    </tr>\n",
       "    <tr>\n",
       "      <th>4</th>\n",
       "      <td>0.0</td>\n",
       "      <td>0.4</td>\n",
       "    </tr>\n",
       "  </tbody>\n",
       "</table>\n",
       "</div>"
      ],
      "text/plain": [
       "   distance  fare_amount\n",
       "0       0.0          0.0\n",
       "1       0.0          0.1\n",
       "2       0.0          0.2\n",
       "3       0.0          0.3\n",
       "4       0.0          0.4"
      ]
     },
     "execution_count": 185,
     "metadata": {},
     "output_type": "execute_result"
    }
   ],
   "source": [
    "test_data = pd.concat([pd.DataFrame({'distance': np.repeat(x, 71), 'fare_amount': np.linspace(start=0, stop=7, num=71)}) for x in np.linspace(start=0, stop=6, num=61)])\n",
    "test_data.head()"
   ]
  },
  {
   "cell_type": "code",
   "execution_count": 186,
   "metadata": {
    "colab": {},
    "colab_type": "code",
    "id": "dcW4UyT_859T"
   },
   "outputs": [],
   "source": [
    "test_data['predicted_amount'] = dtr.predict(np.array(test_data.distance).reshape(-1, 1))"
   ]
  },
  {
   "cell_type": "code",
   "execution_count": 187,
   "metadata": {
    "colab": {
     "base_uri": "https://localhost:8080/",
     "height": 480
    },
    "colab_type": "code",
    "id": "fyQWG0OyQmxz",
    "outputId": "c0398691-648b-430b-cdcf-e120ddbb8018"
   },
   "outputs": [
    {
     "data": {
      "image/png": "[encoded data removed]",
      "text/plain": [
       "<Figure size 500x500 with 1 Axes>"
      ]
     },
     "metadata": {},
     "output_type": "display_data"
    },
    {
     "data": {
      "text/plain": [
       "<ggplot: (147676930147)>"
      ]
     },
     "execution_count": 187,
     "metadata": {},
     "output_type": "execute_result"
    }
   ],
   "source": [
    "fig = (\n",
    "    ggplot(data = example_data,\n",
    "          mapping = aes(x = 'distance', y = 'fare_amount')) +\n",
    "    geom_point(data = test_data, mapping = aes(x = 'distance', y = 'fare_amount', size = 5.0, colour = 'predicted_amount'), shape = 's') +\n",
    "    geom_point(fill = '#36B059', \n",
    "               size = 5.0,\n",
    "               stroke = 2.5,\n",
    "               colour = '#2BE062',\n",
    "               shape = 'o') +\n",
    "    labs(\n",
    "        title ='',\n",
    "        x = 'distance',\n",
    "        y = 'fare amount',\n",
    "    ) +\n",
    "    xlim(0, 6) +\n",
    "    ylim(0, 7) +\n",
    "    theme_bw() + \n",
    "    theme(figure_size = (5, 5),\n",
    "          axis_line = element_line(size = 0.5, colour = \"black\"),\n",
    "          panel_grid_major = element_line(size = 0.05, colour = \"black\"),\n",
    "          panel_grid_minor = element_line(size = 0.05, colour = \"black\"),\n",
    "          axis_text = element_text(colour ='black')) + \n",
    "    guides(size = False)\n",
    ")\n",
    "fig"
   ]
  },
  {
   "cell_type": "markdown",
   "metadata": {
    "colab_type": "text",
    "id": "1YXt-Gxw9UY7"
   },
   "source": [
    "## Homework exercise 3 (3 points): visualising linear regression\n",
    "\n",
    "<font color='red'>**(a)** use previously computed coefficients `w1` and `intercept` of the linear regression model to predict the fare amount in the `test_data` (1 point)"
   ]
  },
  {
   "cell_type": "code",
   "execution_count": 189,
   "metadata": {
    "colab": {},
    "colab_type": "code",
    "id": "BPzCHrC-9kuW"
   },
   "outputs": [],
   "source": [
    "##### YOUR CODE STARTS #####\n",
    "test_data['predicted_amount'] = intercept + test_data.distance*w1\n",
    "##### YOUR CODE ENDS ##### (please do not delete this line)"
   ]
  },
  {
   "cell_type": "markdown",
   "metadata": {
    "colab_type": "text",
    "id": "1jsc7JbcphX5"
   },
   "source": [
    "<font color='red'>**(b)** visualise these predictions as well as linear regression line the way we have done it for Decision Tree. Explain the results. (1 point)\n",
    "</font>"
   ]
  },
  {
   "cell_type": "code",
   "execution_count": 213,
   "metadata": {
    "colab": {},
    "colab_type": "code",
    "id": "utfQ_3GDplfx"
   },
   "outputs": [
    {
     "name": "stderr",
     "output_type": "stream",
     "text": [
      "C:\\Users\\Mykhaylo_Manukyan\\AppData\\Local\\Continuum\\anaconda3\\lib\\site-packages\\numpy\\core\\fromnumeric.py:2542: FutureWarning: Method .ptp is deprecated and will be removed in a future version. Use numpy.ptp instead.\n",
      "  return ptp(axis=axis, out=out, **kwargs)\n"
     ]
    },
    {
     "data": {
      "image/png": "[encoded data removed]",
      "text/plain": [
       "<Figure size 500x500 with 1 Axes>"
      ]
     },
     "metadata": {},
     "output_type": "display_data"
    },
    {
     "data": {
      "text/plain": [
       "<ggplot: (147674954907)>"
      ]
     },
     "execution_count": 213,
     "metadata": {},
     "output_type": "execute_result"
    }
   ],
   "source": [
    "##### YOUR CODE STARTS #####\n",
    "fig = (\n",
    "    ggplot(data = example_data,\n",
    "          mapping = aes(x = 'distance', y = 'fare_amount')) +\n",
    "    geom_point(data = test_data, mapping = aes(x = 'distance', y = 'fare_amount', size = 5.0, colour = 'predicted_amount'), shape = 's') +\n",
    "    geom_point(fill = '#36B059', \n",
    "               size = 5.0,\n",
    "               stroke = 2.5,\n",
    "               colour = '#2BE062',\n",
    "               shape = 'o') +\n",
    "    labs(\n",
    "        title ='',\n",
    "        x = 'distance',\n",
    "        y = 'fare amount',\n",
    "    ) +\n",
    "    xlim(0, 6) +\n",
    "    ylim(0, 7) +\n",
    "    theme_bw() + \n",
    "    theme(figure_size = (5, 5),\n",
    "          axis_line = element_line(size = 0.5, colour = \"black\"),\n",
    "          panel_grid_major = element_line(size = 0.05, colour = \"black\"),\n",
    "          panel_grid_minor = element_line(size = 0.05, colour = \"black\"),\n",
    "          axis_text = element_text(colour ='black')) + \n",
    "    guides(size = False)\n",
    ")\n",
    "fig+geom_abline(intercept = intercept, slope = w1, color=\"black\", linetype=\"dashed\", size=1.5) + geom_smooth(method = 'lm', se = False, colour = 'red')\n",
    "##### YOUR CODE ENDS ##### (please do not delete this line)"
   ]
  },
  {
   "cell_type": "markdown",
   "metadata": {
    "colab_type": "text",
    "id": "BY97fEcmqAW9"
   },
   "source": [
    "<font color='red'>**(c)** Interpret the resulting figure. (1 point)\n",
    "</font>"
   ]
  },
  {
   "cell_type": "markdown",
   "metadata": {},
   "source": [
    "From resulting figure we could see that there is strong positive linear relation between value of \"distance\" and \"predited_amount\". This relation indicated by increasing gradient (from left to right) as well as by regression line istself. Regression line goes in close proximity to the true values of \"fare_amount\"."
   ]
  },
  {
   "cell_type": "markdown",
   "metadata": {
    "colab_type": "text",
    "id": "yiyv1wdqImo-"
   },
   "source": [
    "## NYC Taxi dataset\n",
    "Next we will work with real-world dataset collected from taxis operating in New York City"
   ]
  },
  {
   "cell_type": "code",
   "execution_count": 217,
   "metadata": {
    "colab": {},
    "colab_type": "code",
    "id": "vVU6bxgsNzEh"
   },
   "outputs": [
    {
     "name": "stderr",
     "output_type": "stream",
     "text": [
      "WARNING: pip is being invoked by an old script wrapper. This will fail in a future version of pip.\n",
      "Please see https://github.com/pypa/pip/issues/5599 for advice on fixing the underlying issue.\n",
      "To avoid this problem you can invoke Python with '-m pip' instead of running pip directly.\n"
     ]
    },
    {
     "ename": "ModuleNotFoundError",
     "evalue": "No module named 'google.colab'",
     "output_type": "error",
     "traceback": [
      "\u001b[1;31m---------------------------------------------------------------------------\u001b[0m",
      "\u001b[1;31mModuleNotFoundError\u001b[0m                       Traceback (most recent call last)",
      "\u001b[1;32m<ipython-input-217-7ad37373f72e>\u001b[0m in \u001b[0;36m<module>\u001b[1;34m\u001b[0m\n\u001b[0;32m      3\u001b[0m \u001b[1;32mfrom\u001b[0m \u001b[0mpydrive\u001b[0m\u001b[1;33m.\u001b[0m\u001b[0mauth\u001b[0m \u001b[1;32mimport\u001b[0m \u001b[0mGoogleAuth\u001b[0m\u001b[1;33m\u001b[0m\u001b[1;33m\u001b[0m\u001b[0m\n\u001b[0;32m      4\u001b[0m \u001b[1;32mfrom\u001b[0m \u001b[0mpydrive\u001b[0m\u001b[1;33m.\u001b[0m\u001b[0mdrive\u001b[0m \u001b[1;32mimport\u001b[0m \u001b[0mGoogleDrive\u001b[0m\u001b[1;33m\u001b[0m\u001b[1;33m\u001b[0m\u001b[0m\n\u001b[1;32m----> 5\u001b[1;33m \u001b[1;32mfrom\u001b[0m \u001b[0mgoogle\u001b[0m\u001b[1;33m.\u001b[0m\u001b[0mcolab\u001b[0m \u001b[1;32mimport\u001b[0m \u001b[0mauth\u001b[0m\u001b[1;33m\u001b[0m\u001b[1;33m\u001b[0m\u001b[0m\n\u001b[0m\u001b[0;32m      6\u001b[0m \u001b[1;32mfrom\u001b[0m \u001b[0moauth2client\u001b[0m\u001b[1;33m.\u001b[0m\u001b[0mclient\u001b[0m \u001b[1;32mimport\u001b[0m \u001b[0mGoogleCredentials\u001b[0m\u001b[1;33m\u001b[0m\u001b[1;33m\u001b[0m\u001b[0m\n",
      "\u001b[1;31mModuleNotFoundError\u001b[0m: No module named 'google.colab'"
     ]
    }
   ],
   "source": [
    "# Code to read csv file into Colaboratory:\n",
    "!pip install -U -q PyDrive\n",
    "from pydrive.auth import GoogleAuth\n",
    "from pydrive.drive import GoogleDrive\n",
    "from google.colab import auth\n",
    "from oauth2client.client import GoogleCredentials"
   ]
  },
  {
   "cell_type": "code",
   "execution_count": null,
   "metadata": {
    "colab": {
     "base_uri": "https://localhost:8080/",
     "height": 162
    },
    "colab_type": "code",
    "id": "3QNY3__uCWRY",
    "outputId": "defb5165-7db1-4f98-8612-3710ba160cef"
   },
   "outputs": [],
   "source": [
    "# Authenticate and create the PyDrive client.\n",
    "auth.authenticate_user()\n",
    "gauth = GoogleAuth()\n",
    "gauth.credentials = GoogleCredentials.get_application_default()\n",
    "drive = GoogleDrive(gauth)\n",
    "\n",
    "link = 'https://drive.google.com/file/d/1XBBNQ6wnaz5W-h8qbL-2_4MNchGR8YCI' # The shareable link"
   ]
  },
  {
   "cell_type": "code",
   "execution_count": null,
   "metadata": {
    "colab": {},
    "colab_type": "code",
    "id": "RmMEiS7ICgRB"
   },
   "outputs": [],
   "source": [
    "downloaded = drive.CreateFile({'id':'1XBBNQ6wnaz5W-h8qbL-2_4MNchGR8YCI'}) \n",
    "downloaded.GetContentFile('nyc_data.zip')"
   ]
  },
  {
   "cell_type": "code",
   "execution_count": null,
   "metadata": {
    "colab": {
     "base_uri": "https://localhost:8080/",
     "height": 35
    },
    "colab_type": "code",
    "id": "DvH1jMyPOHmy",
    "outputId": "e5b5a835-3fac-45a6-ad48-ffe9fb82597f"
   },
   "outputs": [],
   "source": [
    "# check that nyc_data.zip exists\n",
    "!ls"
   ]
  },
  {
   "cell_type": "code",
   "execution_count": null,
   "metadata": {
    "colab": {
     "base_uri": "https://localhost:8080/",
     "height": 199
    },
    "colab_type": "code",
    "id": "q0zYwWsoC-sW",
    "outputId": "5514772f-076f-4dca-cc59-120ad14b163b"
   },
   "outputs": [],
   "source": [
    "# After archive has been downloaded\n",
    "# unzip it\n",
    "!unzip nyc_data.zip\n",
    "\n",
    "# check that train_2M.csv, test.csv, model.pickle and sample_submission.csv exist\n",
    "!ls"
   ]
  },
  {
   "cell_type": "markdown",
   "metadata": {
    "colab_type": "text",
    "id": "GkSYWHwZEG9j"
   },
   "source": [
    "* `train_2M.csv` contains 2 million observations from NYC dataset (6 independent variables and fare_amount that we need to predict).\n",
    "* `test.csv` contains new observations, for which we have to estimate `fare_amount` based on train data.\n",
    "* `sample_submission.csv` - a sample submission file in the correct format (columns `key` and `fare_amount`). Every row in this file matches every row in `test.csv`.\n",
    "* `model.pickel` - file that contains trained model saved as a pickle (we are going to deal with it later)"
   ]
  },
  {
   "cell_type": "markdown",
   "metadata": {
    "colab_type": "text",
    "id": "d9MiatCvf_Qz"
   },
   "source": [
    "### Setting up Kaggle"
   ]
  },
  {
   "cell_type": "markdown",
   "metadata": {
    "colab_type": "text",
    "id": "8wEnpDansSd2"
   },
   "source": [
    "You need to have an account on Kaggle.com"
   ]
  },
  {
   "cell_type": "code",
   "execution_count": null,
   "metadata": {
    "colab": {},
    "colab_type": "code",
    "id": "el8MSVqmEPWo"
   },
   "outputs": [],
   "source": [
    "!mkdir .kaggle"
   ]
  },
  {
   "cell_type": "code",
   "execution_count": null,
   "metadata": {
    "colab": {},
    "colab_type": "code",
    "id": "pqAUm2XZEz7D"
   },
   "outputs": [],
   "source": [
    "import json\n",
    "token = {\"username\": \"kaiwren\", \"key\": \"f1416b6a615b875dbf9ed99b7a6e6310\"}\n",
    "with open('/content/.kaggle/kaggle.json', 'w') as file:\n",
    "    json.dump(token, file)"
   ]
  },
  {
   "cell_type": "code",
   "execution_count": null,
   "metadata": {
    "colab": {},
    "colab_type": "code",
    "id": "VOMVGwfHGQbk"
   },
   "outputs": [],
   "source": [
    "!cp /content/.kaggle/kaggle.json ~/.kaggle/kaggle.json"
   ]
  },
  {
   "cell_type": "code",
   "execution_count": null,
   "metadata": {
    "colab": {
     "base_uri": "https://localhost:8080/",
     "height": 53
    },
    "colab_type": "code",
    "id": "mW_YpRtHGTsl",
    "outputId": "37bf01e0-85dd-47fe-e0a9-26a2bf0412fc"
   },
   "outputs": [],
   "source": [
    "!kaggle config set -n path -v{/content}"
   ]
  },
  {
   "cell_type": "code",
   "execution_count": null,
   "metadata": {
    "colab": {},
    "colab_type": "code",
    "id": "QLdLWX2nGWyM"
   },
   "outputs": [],
   "source": [
    "!chmod 600 ~/.kaggle/kaggle.json"
   ]
  },
  {
   "cell_type": "markdown",
   "metadata": {
    "colab_type": "text",
    "id": "2fDy-ghRhlvv"
   },
   "source": [
    "In order to sign up for a NYC Taxi competition you need to accept the rules by cliking on \"Late submission\" button in the upper right corner: https://www.kaggle.com/c/new-york-city-taxi-fare-prediction"
   ]
  },
  {
   "cell_type": "markdown",
   "metadata": {
    "colab_type": "text",
    "id": "h2FromHiSLB4"
   },
   "source": [
    "Make a test submission to ensure that the submission mechanism works"
   ]
  },
  {
   "cell_type": "code",
   "execution_count": null,
   "metadata": {
    "colab": {
     "base_uri": "https://localhost:8080/",
     "height": 72
    },
    "colab_type": "code",
    "id": "ULF0BN3LCtSE",
    "outputId": "2a9eef46-1085-4b82-abb8-afb31c567bd9"
   },
   "outputs": [],
   "source": [
    "!kaggle competitions submit -c new-york-city-taxi-fare-prediction -f sample_submission.csv -m \"Sample submission test\""
   ]
  },
  {
   "cell_type": "markdown",
   "metadata": {
    "colab_type": "text",
    "id": "d4HijXgyspzs"
   },
   "source": [
    "Now you can check `My submissions` tab on the website: https://www.kaggle.com/c/new-york-city-taxi-fare-prediction/submissions"
   ]
  },
  {
   "cell_type": "markdown",
   "metadata": {
    "colab_type": "text",
    "id": "rXvcLJyNSRzH"
   },
   "source": [
    "## Read in the NYC data"
   ]
  },
  {
   "cell_type": "code",
   "execution_count": null,
   "metadata": {
    "colab": {
     "base_uri": "https://localhost:8080/",
     "height": 53
    },
    "colab_type": "code",
    "id": "JQXdJrPvDMrZ",
    "outputId": "5cc826a3-b473-471d-8c63-8f193901c8d9"
   },
   "outputs": [],
   "source": [
    "%%time \n",
    "\n",
    "# note that we use only 1M out of 2M records\n",
    "train =  pd.read_csv('train_2M.csv', parse_dates=[\"pickup_datetime\"], nrows = 1_000_000) # the first row will automatically be interpreted as a header"
   ]
  },
  {
   "cell_type": "markdown",
   "metadata": {
    "colab_type": "text",
    "id": "s2BdqFzRHFig"
   },
   "source": [
    "## Brief Exploratory Data Analysis (EDA)"
   ]
  },
  {
   "cell_type": "code",
   "execution_count": null,
   "metadata": {
    "colab": {
     "base_uri": "https://localhost:8080/",
     "height": 206
    },
    "colab_type": "code",
    "id": "BQTDba2DKDFX",
    "outputId": "af6446a8-0285-4da1-cb87-a5b9779e3119"
   },
   "outputs": [],
   "source": [
    "train.head()"
   ]
  },
  {
   "cell_type": "code",
   "execution_count": null,
   "metadata": {
    "colab": {
     "base_uri": "https://localhost:8080/",
     "height": 162
    },
    "colab_type": "code",
    "id": "UiuOS0pBKL-E",
    "outputId": "e7af5e7c-77f0-4eb8-8bf4-79d49da690f2"
   },
   "outputs": [],
   "source": [
    "train.dtypes"
   ]
  },
  {
   "cell_type": "code",
   "execution_count": null,
   "metadata": {
    "colab": {
     "base_uri": "https://localhost:8080/",
     "height": 300
    },
    "colab_type": "code",
    "id": "z5658q2zOcJZ",
    "outputId": "6f18604f-7de8-4153-dee8-68d0371dc877"
   },
   "outputs": [],
   "source": [
    "train.describe()"
   ]
  },
  {
   "cell_type": "code",
   "execution_count": null,
   "metadata": {
    "colab": {},
    "colab_type": "code",
    "id": "nYJkes3jOdaJ"
   },
   "outputs": [],
   "source": [
    "def add_travel_vector_features(df):\n",
    "    df['abs_diff_longitude'] = (df.dropoff_longitude - df.pickup_longitude).abs()\n",
    "    df['abs_diff_latitude'] = (df.dropoff_latitude - df.pickup_latitude).abs()\n",
    "\n",
    "add_travel_vector_features(train)"
   ]
  },
  {
   "cell_type": "code",
   "execution_count": null,
   "metadata": {
    "colab": {
     "base_uri": "https://localhost:8080/",
     "height": 206
    },
    "colab_type": "code",
    "id": "rvX84Hoxk1Zj",
    "outputId": "32d96d94-3dd3-45bf-c332-a90117fd8b9b"
   },
   "outputs": [],
   "source": [
    "train.head()"
   ]
  },
  {
   "cell_type": "markdown",
   "metadata": {
    "colab_type": "text",
    "id": "ETMJ8EI4lHrh"
   },
   "source": [
    "Read in test set"
   ]
  },
  {
   "cell_type": "code",
   "execution_count": null,
   "metadata": {
    "colab": {
     "base_uri": "https://localhost:8080/",
     "height": 162
    },
    "colab_type": "code",
    "id": "17Lkf_YsOguo",
    "outputId": "eff74cd6-fd67-4dae-e048-9e2aae7e77fe"
   },
   "outputs": [],
   "source": [
    "test_df = pd.read_csv('test.csv')\n",
    "test_df.dtypes"
   ]
  },
  {
   "cell_type": "code",
   "execution_count": null,
   "metadata": {
    "colab": {},
    "colab_type": "code",
    "id": "nLM0rXFtOiNI"
   },
   "outputs": [],
   "source": [
    "add_travel_vector_features(test_df)"
   ]
  },
  {
   "cell_type": "code",
   "execution_count": null,
   "metadata": {
    "colab": {
     "base_uri": "https://localhost:8080/",
     "height": 199
    },
    "colab_type": "code",
    "id": "nHR870EOOj4g",
    "outputId": "b75981b7-7ed8-47e5-e3c0-9acd33eab0c4"
   },
   "outputs": [],
   "source": [
    "print(train.isnull().sum())"
   ]
  },
  {
   "cell_type": "code",
   "execution_count": null,
   "metadata": {
    "colab": {
     "base_uri": "https://localhost:8080/",
     "height": 53
    },
    "colab_type": "code",
    "id": "ygKyHcPJOlJw",
    "outputId": "cfeb5564-24ee-4531-d43d-2470cb37f386"
   },
   "outputs": [],
   "source": [
    "print(f'Old size: {len(train)}')\n",
    "train = train.dropna(how = 'any', axis = 'rows')\n",
    "print(f'New size: {len(train)}')"
   ]
  },
  {
   "cell_type": "code",
   "execution_count": null,
   "metadata": {
    "colab": {
     "base_uri": "https://localhost:8080/",
     "height": 280
    },
    "colab_type": "code",
    "id": "5ngFKLETOm_4",
    "outputId": "1a7533e2-2e84-479f-84c9-e5861f4039fc"
   },
   "outputs": [],
   "source": [
    "plot = train.iloc[:2000].plot.scatter('abs_diff_longitude', 'abs_diff_latitude')"
   ]
  },
  {
   "cell_type": "code",
   "execution_count": null,
   "metadata": {
    "colab": {
     "base_uri": "https://localhost:8080/",
     "height": 53
    },
    "colab_type": "code",
    "id": "Z5WHdOKjOoi_",
    "outputId": "512d93bc-4de6-4ac0-fc6a-e8dd30c4a129"
   },
   "outputs": [],
   "source": [
    "print(f'Old size: {len(train)}')\n",
    "train = train[(train.abs_diff_longitude < 5.0) & (train.abs_diff_latitude < 5.0)]\n",
    "print(f'New size: {len(train)}')"
   ]
  },
  {
   "cell_type": "code",
   "execution_count": null,
   "metadata": {
    "colab": {
     "base_uri": "https://localhost:8080/",
     "height": 280
    },
    "colab_type": "code",
    "id": "zinnh2oEP2Fj",
    "outputId": "a31506aa-fb41-493e-fc49-005d1b38ffe2"
   },
   "outputs": [],
   "source": [
    "plot = train.iloc[:2000].plot.scatter('abs_diff_longitude', 'abs_diff_latitude')"
   ]
  },
  {
   "cell_type": "markdown",
   "metadata": {
    "colab_type": "text",
    "id": "lr1Xa6-LHq52"
   },
   "source": [
    "### Naive baseline\n",
    "**Classroom exercise**: what is a reasonable baseline for predicting fare amount (`fare_amount` column in NYC taxi dataset) without knowing anything else?"
   ]
  },
  {
   "cell_type": "code",
   "execution_count": null,
   "metadata": {
    "colab": {},
    "colab_type": "code",
    "id": "U9ZpHS5mQupp"
   },
   "outputs": [],
   "source": [
    "##### YOUR CODE STARTS #####\n",
    "baseline_predictions = np.repeat(train.fare_amount.mean(), len(test_df))\n",
    "##### YOUR CODE ENDS ##### (please do not delete this line)"
   ]
  },
  {
   "cell_type": "code",
   "execution_count": null,
   "metadata": {
    "colab": {
     "base_uri": "https://localhost:8080/",
     "height": 72
    },
    "colab_type": "code",
    "id": "HtPZhyzMUBOQ",
    "outputId": "5ab97e42-5e3b-4a39-fcc1-13151e844a2f"
   },
   "outputs": [],
   "source": [
    "# Write the predictions to a CSV file which we can submit to the competition.\n",
    "submission = pd.DataFrame(\n",
    "    {'key': test_df.key, 'fare_amount': baseline_predictions},\n",
    "    columns = ['key', 'fare_amount'])\n",
    "submission.to_csv('submission_baseline.csv', index = False)\n",
    "\n",
    "!ls"
   ]
  },
  {
   "cell_type": "markdown",
   "metadata": {
    "colab_type": "text",
    "id": "pMTcwEVKZfrP"
   },
   "source": [
    "**Classroom exercise**: submit `submission_baseline.csv` to kaggle using earlier example, report RMSE that you get"
   ]
  },
  {
   "cell_type": "code",
   "execution_count": null,
   "metadata": {
    "colab": {
     "base_uri": "https://localhost:8080/",
     "height": 72
    },
    "colab_type": "code",
    "id": "ghUXJjZtWNhR",
    "outputId": "d8eb09ab-43f1-4106-c7ca-6f26367f0079"
   },
   "outputs": [],
   "source": [
    "##### YOUR CODE STARTS #####\n",
    "!kaggle competitions submit -c new-york-city-taxi-fare-prediction -f submission_baseline.csv -m \"Baseline submission\"\n",
    "##### YOUR CODE ENDS ##### (please do not delete this line)"
   ]
  },
  {
   "cell_type": "markdown",
   "metadata": {
    "colab_type": "text",
    "id": "ba5yhMc2XBxz"
   },
   "source": [
    "### Linear regression on NYC taxi dataset based on one feature (abs_diff_longitude)"
   ]
  },
  {
   "cell_type": "markdown",
   "metadata": {
    "colab_type": "text",
    "id": "QHgq2oyYXzU_"
   },
   "source": [
    "**Classroom exercise**: Use earlier example on 2D data to calculate **`slope`** (`w1`) and **`intercept`** based on **`abs_diff_longitude`**\n"
   ]
  },
  {
   "cell_type": "code",
   "execution_count": null,
   "metadata": {
    "colab": {
     "base_uri": "https://localhost:8080/",
     "height": 35
    },
    "colab_type": "code",
    "id": "21P48rhuXE3h",
    "outputId": "03fe8ce9-e61d-4c20-9471-81f11e7b015c"
   },
   "outputs": [],
   "source": [
    "##### YOUR CODE STARTS #####\n",
    "w1 = np.sum((train.abs_diff_longitude - train.abs_diff_longitude.mean())*(train.fare_amount - train.fare_amount.mean()))/np.sum((train.abs_diff_longitude - train.abs_diff_longitude.mean())**2)\n",
    "intercept = train.fare_amount.mean() - w1*train.abs_diff_longitude.mean()\n",
    "##### YOUR CODE ENDS ##### (please do not delete this line)\n",
    "print(f\"w1 = {round(w1, 8)}; intercept = {round(intercept, 8)}\")"
   ]
  },
  {
   "cell_type": "markdown",
   "metadata": {
    "colab_type": "text",
    "id": "VoCEE4HkaPTB"
   },
   "source": [
    "Instead of calculating coefficients ourselves, we can use sklearn"
   ]
  },
  {
   "cell_type": "code",
   "execution_count": null,
   "metadata": {
    "colab": {
     "base_uri": "https://localhost:8080/",
     "height": 35
    },
    "colab_type": "code",
    "id": "ZCA4fNQO0P6J",
    "outputId": "7ab13260-db5c-4a99-b79e-c58e1379eae7"
   },
   "outputs": [],
   "source": [
    "from sklearn.linear_model import LinearRegression\n",
    "\n",
    "lr = LinearRegression()\n",
    "lr.fit(train[['abs_diff_longitude']], train[['fare_amount']])"
   ]
  },
  {
   "cell_type": "markdown",
   "metadata": {
    "colab_type": "text",
    "id": "pC06Xp1w9A-c"
   },
   "source": [
    "#### Inspecting model object"
   ]
  },
  {
   "cell_type": "code",
   "execution_count": null,
   "metadata": {
    "colab": {
     "base_uri": "https://localhost:8080/",
     "height": 998
    },
    "colab_type": "code",
    "id": "V14--yD080QR",
    "outputId": "76419e3f-0cd0-4dd1-9b6e-99ff7bb33528"
   },
   "outputs": [],
   "source": [
    "dir(lr)"
   ]
  },
  {
   "cell_type": "code",
   "execution_count": null,
   "metadata": {
    "colab": {
     "base_uri": "https://localhost:8080/",
     "height": 35
    },
    "colab_type": "code",
    "id": "vnGHTN__AOtp",
    "outputId": "a7e88a80-e9c1-48c5-ba10-8a5a7006f205"
   },
   "outputs": [],
   "source": [
    "# Print learnt weights\n",
    "print(f'[{round(lr.coef_[0][0], 8)}, {round(lr.intercept_[0], 8)}]')"
   ]
  },
  {
   "cell_type": "markdown",
   "metadata": {
    "colab_type": "text",
    "id": "GDfEG31gXvKZ"
   },
   "source": [
    "Using earlier example, let's predict `fare_amount` based on calculated coefficients **`intercept`** and **`w1`** and **`test_df.abs_diff_longitude`**."
   ]
  },
  {
   "cell_type": "code",
   "execution_count": null,
   "metadata": {
    "colab": {},
    "colab_type": "code",
    "id": "IdbmbIpzXTI9"
   },
   "outputs": [],
   "source": [
    "predictions_manual = w1*test_df.abs_diff_longitude + intercept"
   ]
  },
  {
   "cell_type": "markdown",
   "metadata": {
    "colab_type": "text",
    "id": "kBCmETriTz-Y"
   },
   "source": [
    "Here is how you can predict `fare_amount` for `test_df` using sklearn object `lr`:"
   ]
  },
  {
   "cell_type": "code",
   "execution_count": null,
   "metadata": {
    "colab": {},
    "colab_type": "code",
    "id": "3OJ83PbMGGnc"
   },
   "outputs": [],
   "source": [
    "predictions_sklearn = lr.predict(test_df[['abs_diff_longitude']])"
   ]
  },
  {
   "cell_type": "code",
   "execution_count": null,
   "metadata": {
    "colab": {
     "base_uri": "https://localhost:8080/",
     "height": 72
    },
    "colab_type": "code",
    "id": "yZ7zhICFX8Y6",
    "outputId": "fcd21063-2657-4df6-ea35-a34c30b3478a"
   },
   "outputs": [],
   "source": [
    "submission = pd.DataFrame(\n",
    "    {'key': test_df.key, 'fare_amount': np.squeeze(predictions_sklearn)},\n",
    "    columns = ['key', 'fare_amount'])\n",
    "submission.to_csv('submission_lr_2d.csv', index = False)\n",
    "\n",
    "!ls "
   ]
  },
  {
   "cell_type": "code",
   "execution_count": null,
   "metadata": {
    "colab": {
     "base_uri": "https://localhost:8080/",
     "height": 72
    },
    "colab_type": "code",
    "id": "hlwRf3w0YCxM",
    "outputId": "9ffbf6b4-bf83-443b-9cd7-76f0a8d5d35f"
   },
   "outputs": [],
   "source": [
    "!kaggle competitions submit -c new-york-city-taxi-fare-prediction -f submission_lr_2d.csv -m \"Linear Regression with only abs_diff_longitude as an independent variable\""
   ]
  },
  {
   "cell_type": "markdown",
   "metadata": {
    "colab_type": "text",
    "id": "fLpkthynagGi"
   },
   "source": [
    "What RMSE you obtained with this model?"
   ]
  },
  {
   "cell_type": "markdown",
   "metadata": {
    "colab_type": "text",
    "id": "4ND-fEPFgEuc"
   },
   "source": [
    "## Save/load model using pickle."
   ]
  },
  {
   "cell_type": "code",
   "execution_count": null,
   "metadata": {
    "colab": {
     "base_uri": "https://localhost:8080/",
     "height": 35
    },
    "colab_type": "code",
    "id": "lamRzy5RgHY8",
    "outputId": "0eec6825-8ecf-4a05-f6ae-1125d13141a6"
   },
   "outputs": [],
   "source": [
    "import pickle\n",
    "import os\n",
    "\n",
    "pickle_out = open('linear_regression.pickle', 'wb')\n",
    "pickle.dump(lr, pickle_out)\n",
    "\n",
    "if os.path.getsize('linear_regression.pickle') > 0:  \n",
    "    print(\"file is not empty\")"
   ]
  },
  {
   "cell_type": "code",
   "execution_count": null,
   "metadata": {
    "colab": {
     "base_uri": "https://localhost:8080/",
     "height": 108
    },
    "colab_type": "code",
    "id": "sFPxRBn3gQ7D",
    "outputId": "a51fa625-32e3-4630-bffe-8ff8aec50a3a"
   },
   "outputs": [],
   "source": [
    "!ls"
   ]
  },
  {
   "cell_type": "code",
   "execution_count": null,
   "metadata": {
    "colab": {},
    "colab_type": "code",
    "id": "Eq_TNYCAgRb8"
   },
   "outputs": [],
   "source": [
    "del lr"
   ]
  },
  {
   "cell_type": "markdown",
   "metadata": {
    "colab_type": "text",
    "id": "32ALANZBgZGH"
   },
   "source": [
    "Now, if you call `lr` you should get an error:"
   ]
  },
  {
   "cell_type": "code",
   "execution_count": null,
   "metadata": {
    "colab": {
     "base_uri": "https://localhost:8080/",
     "height": 171
    },
    "colab_type": "code",
    "id": "rX6F7DUagZ8o",
    "outputId": "0c1393d5-225e-40c6-823a-4d4111283bb2"
   },
   "outputs": [],
   "source": [
    "lr"
   ]
  },
  {
   "cell_type": "code",
   "execution_count": null,
   "metadata": {
    "colab": {},
    "colab_type": "code",
    "id": "Bulbskr2gbAD"
   },
   "outputs": [],
   "source": [
    "filename = 'linear_regression.pickle'\n",
    "with open(filename, 'rb') as file:\n",
    "  lr = pickle.load(file)"
   ]
  },
  {
   "cell_type": "markdown",
   "metadata": {
    "colab_type": "text",
    "id": "tRgHrImTgfIL"
   },
   "source": [
    "Check that `lr` object has been loaded successfully\n"
   ]
  },
  {
   "cell_type": "code",
   "execution_count": null,
   "metadata": {
    "colab": {
     "base_uri": "https://localhost:8080/",
     "height": 35
    },
    "colab_type": "code",
    "id": "MXrnjgrsghWz",
    "outputId": "2aa5bf1d-61e5-45ee-98cc-764511e9e711"
   },
   "outputs": [],
   "source": [
    "lr.get_params"
   ]
  },
  {
   "cell_type": "markdown",
   "metadata": {
    "colab_type": "text",
    "id": "7p4GMeGK-QGL"
   },
   "source": [
    "## Homework exercise 4 (2 points): read and explore `model.pickel`"
   ]
  },
  {
   "cell_type": "markdown",
   "metadata": {
    "colab_type": "text",
    "id": "Rsa9ojOlgmmk"
   },
   "source": [
    "<font color='red'> **(a)** read in `model.pickel` file that you have downloaded from `nyc_data.zip` using `pickle.load()` function. (1 point)"
   ]
  },
  {
   "cell_type": "code",
   "execution_count": null,
   "metadata": {
    "colab": {},
    "colab_type": "code",
    "id": "iezeRiy9gl_-"
   },
   "outputs": [],
   "source": [
    "##### YOUR CODE STARTS #####\n",
    "filename = \n",
    "##### YOUR CODE ENDS ##### (please do not delete this line)"
   ]
  },
  {
   "cell_type": "markdown",
   "metadata": {
    "colab_type": "text",
    "id": "mJQbGVDs-1vS"
   },
   "source": [
    "<font color='red'> **(b)** next, explore the object using function `dir` and answer the following questions:\n",
    "* <font color='red'> Which model was saved into this object?  \n",
    "* <font color='red'> How many coefficients it has and what are their values?\n",
    "* <font color='red'>Can you find out which features have been used for training?\n",
    "\n",
    "<font color='red'>(1 point)\n"
   ]
  },
  {
   "cell_type": "markdown",
   "metadata": {
    "colab_type": "text",
    "id": "-PoebBH_ii4H"
   },
   "source": [
    "Answers: "
   ]
  },
  {
   "cell_type": "markdown",
   "metadata": {
    "colab_type": "text",
    "id": "QXiM7T9qYWfG"
   },
   "source": [
    "### Linear regression based on more than one feature"
   ]
  },
  {
   "cell_type": "code",
   "execution_count": null,
   "metadata": {
    "colab": {
     "base_uri": "https://localhost:8080/",
     "height": 35
    },
    "colab_type": "code",
    "id": "TJKT5S2pYbwK",
    "outputId": "aba7d38e-9fab-4e1c-b785-3199705a1ef9"
   },
   "outputs": [],
   "source": [
    "lr = LinearRegression()\n",
    "lr.fit(train[['abs_diff_longitude', 'abs_diff_latitude']], train[['fare_amount']])\n",
    "\n",
    "# Print learnt weights\n",
    "print(f'[{round(lr.coef_[0][0], 8)}, {round(lr.coef_[0][1], 8)} , {round(lr.intercept_[0], 8)}]')"
   ]
  },
  {
   "cell_type": "markdown",
   "metadata": {
    "colab_type": "text",
    "id": "8dDBCIlujFWp"
   },
   "source": [
    "Predict `fare_amount` for test set and submit predictions to kaggle"
   ]
  },
  {
   "cell_type": "code",
   "execution_count": null,
   "metadata": {
    "colab": {
     "base_uri": "https://localhost:8080/",
     "height": 90
    },
    "colab_type": "code",
    "id": "mVpFOfPWUJMT",
    "outputId": "3cc77666-e6a1-4069-b3e4-effb6ffc9bd4"
   },
   "outputs": [],
   "source": [
    "# Predict fare_amount on the test set using our model (w) trained on the training set.\n",
    "test_y_predictions = lr.predict(test_df[['abs_diff_longitude', 'abs_diff_latitude']])\n",
    "\n",
    "# Write the predictions to a CSV file which we can submit to the competition.\n",
    "submission = pd.DataFrame(\n",
    "    {'key': test_df.key, 'fare_amount': np.squeeze(test_y_predictions)},\n",
    "    columns = ['key', 'fare_amount'])\n",
    "submission.to_csv('submission_lr_3d.csv', index = False)\n",
    "\n",
    "!ls "
   ]
  },
  {
   "cell_type": "code",
   "execution_count": null,
   "metadata": {
    "colab": {
     "base_uri": "https://localhost:8080/",
     "height": 72
    },
    "colab_type": "code",
    "id": "EHNFNX9YUo1n",
    "outputId": "4c536a02-b36e-440c-ee05-97a23bc3d804"
   },
   "outputs": [],
   "source": [
    "!kaggle competitions submit -c new-york-city-taxi-fare-prediction -f submission_lr_3d.csv -m \"Linear Regression with two predictors on 1M records\""
   ]
  },
  {
   "cell_type": "markdown",
   "metadata": {
    "colab_type": "text",
    "id": "tRoXaw0ET_GG"
   },
   "source": [
    "### Decision Tree (DT)"
   ]
  },
  {
   "cell_type": "code",
   "execution_count": null,
   "metadata": {
    "colab": {
     "base_uri": "https://localhost:8080/",
     "height": 126
    },
    "colab_type": "code",
    "id": "b3fz57D3Tuqy",
    "outputId": "4809cfb2-5636-4660-fbec-d7e3e7311704"
   },
   "outputs": [],
   "source": [
    "from sklearn.tree import DecisionTreeRegressor\n",
    "dtr= DecisionTreeRegressor(max_depth = 100)\n",
    "dtr.fit(train[['abs_diff_longitude', 'abs_diff_latitude']], train[['fare_amount']])"
   ]
  },
  {
   "cell_type": "markdown",
   "metadata": {
    "colab_type": "text",
    "id": "SCwxaKI4VhVM"
   },
   "source": [
    "How can we predict the goodness of this model without sending it to the server? (Hint: remember RMSE?)"
   ]
  },
  {
   "cell_type": "code",
   "execution_count": null,
   "metadata": {
    "colab": {
     "base_uri": "https://localhost:8080/",
     "height": 35
    },
    "colab_type": "code",
    "id": "pXQEDEwOY6N-",
    "outputId": "c99afbcc-d6ee-496a-d10e-a1bf5f33339f"
   },
   "outputs": [],
   "source": [
    "np.sqrt(np.mean(( train.fare_amount - dtr.predict(train[['abs_diff_longitude', 'abs_diff_latitude']]))**2))"
   ]
  },
  {
   "cell_type": "markdown",
   "metadata": {
    "colab_type": "text",
    "id": "3_NmcC6gb5-n"
   },
   "source": [
    "or using built-in function:"
   ]
  },
  {
   "cell_type": "code",
   "execution_count": null,
   "metadata": {
    "colab": {
     "base_uri": "https://localhost:8080/",
     "height": 35
    },
    "colab_type": "code",
    "id": "aSTwJPc3Vgru",
    "outputId": "c81330ad-1458-4ed4-b7f0-54f8618cab3e"
   },
   "outputs": [],
   "source": [
    "from sklearn.metrics import mean_squared_error\n",
    "np.sqrt(mean_squared_error( train.fare_amount, dtr.predict(train[['abs_diff_longitude', 'abs_diff_latitude']])))"
   ]
  },
  {
   "cell_type": "markdown",
   "metadata": {
    "colab_type": "text",
    "id": "3Utsm_1rnksz"
   },
   "source": [
    "Very good! What would be our standing in the leaderboard if this RMSE was true?"
   ]
  },
  {
   "cell_type": "markdown",
   "metadata": {
    "colab_type": "text",
    "id": "O5FTDyNGnXVk"
   },
   "source": [
    "Let's now submit this mode's predictions to kaggle and compare RMSE scores"
   ]
  },
  {
   "cell_type": "code",
   "execution_count": null,
   "metadata": {
    "colab": {},
    "colab_type": "code",
    "id": "1eqN62e_VVje"
   },
   "outputs": [],
   "source": [
    "test_y_predictions = dtr.predict(test_df[['abs_diff_longitude', 'abs_diff_latitude']])"
   ]
  },
  {
   "cell_type": "code",
   "execution_count": null,
   "metadata": {
    "colab": {
     "base_uri": "https://localhost:8080/",
     "height": 72
    },
    "colab_type": "code",
    "id": "W8eZnKmeV3UC",
    "outputId": "33050949-558e-4525-8524-267bbf75ea77"
   },
   "outputs": [],
   "source": [
    "# Write the predictions to a CSV file which we can submit to the competition.\n",
    "submission = pd.DataFrame(\n",
    "    {'key': test_df.key, 'fare_amount': test_y_predictions},\n",
    "    columns = ['key', 'fare_amount'])\n",
    "submission.to_csv('submission_dt.csv', index = False)\n",
    "\n",
    "!kaggle competitions submit -c new-york-city-taxi-fare-prediction -f submission_dt.csv -m \"Decision Tree Regressor using 1M records and max_depth = 100\""
   ]
  },
  {
   "cell_type": "markdown",
   "metadata": {
    "colab_type": "text",
    "id": "1eUl_nwXQhQt"
   },
   "source": [
    "Let's go back to our **slides**!"
   ]
  },
  {
   "cell_type": "markdown",
   "metadata": {
    "colab_type": "text",
    "id": "W61EbSaLclDT"
   },
   "source": [
    "### Train, val split for more accurate estimate of our model performance\n",
    "We will divide our initial `train` into `train_X` (80%) and `val_X`(20%). We shall create separate variables `train_y` and `val_y` that will hold fare_amount for corresponding rows for convenience."
   ]
  },
  {
   "cell_type": "code",
   "execution_count": null,
   "metadata": {
    "colab": {},
    "colab_type": "code",
    "id": "sCEE6oS5cPK3"
   },
   "outputs": [],
   "source": [
    "train_X = train[0:int(len(train)*0.8)]\n",
    "train_y = train.fare_amount[0:int(len(train)*0.8)]"
   ]
  },
  {
   "cell_type": "markdown",
   "metadata": {
    "colab_type": "text",
    "id": "dmOuThjiokAQ"
   },
   "source": [
    "**Classroom exercise**: assign remaining 20% of the data to val_X, val_y"
   ]
  },
  {
   "cell_type": "code",
   "execution_count": null,
   "metadata": {
    "colab": {},
    "colab_type": "code",
    "id": "KH6T3ry6okUp"
   },
   "outputs": [],
   "source": [
    "##### YOUR CODE STARTS #####\n",
    "val_X = train[int(len(train)*0.8):]\n",
    "val_y = train.fare_amount[int(len(train)*0.8):]\n",
    "##### YOUR CODE ENDS ##### (please do not delete this line)"
   ]
  },
  {
   "cell_type": "code",
   "execution_count": null,
   "metadata": {
    "colab": {
     "base_uri": "https://localhost:8080/",
     "height": 90
    },
    "colab_type": "code",
    "id": "-ozmdmqJfSJ0",
    "outputId": "8a5ac3f3-5c53-46a0-9ac0-6c9aa4373736"
   },
   "outputs": [],
   "source": [
    "print(train_X.shape)\n",
    "print(train_y.shape)\n",
    "print(val_X.shape)\n",
    "print(val_y.shape)"
   ]
  },
  {
   "cell_type": "code",
   "execution_count": null,
   "metadata": {
    "colab": {
     "base_uri": "https://localhost:8080/",
     "height": 206
    },
    "colab_type": "code",
    "id": "MZvC3DoRg4IX",
    "outputId": "96efbf18-74fd-4453-8b74-bae0b9ecc0d4"
   },
   "outputs": [],
   "source": [
    "train_X[0:5]"
   ]
  },
  {
   "cell_type": "markdown",
   "metadata": {
    "colab_type": "text",
    "id": "pCV5mUM_f6l7"
   },
   "source": [
    "What if your first samples were easier to predict than the later ones?"
   ]
  },
  {
   "cell_type": "code",
   "execution_count": null,
   "metadata": {
    "colab": {},
    "colab_type": "code",
    "id": "MoBaWmKTfSg3"
   },
   "outputs": [],
   "source": [
    "from sklearn.model_selection import train_test_split\n",
    "train_X, val_X, train_y, val_y = train_test_split(train, np.array(train['fare_amount']), \n",
    "                                                      random_state = 111, \n",
    "                                                      test_size = 0.20) # you can also explicitely say how many observations will be in the validation set"
   ]
  },
  {
   "cell_type": "code",
   "execution_count": null,
   "metadata": {
    "colab": {
     "base_uri": "https://localhost:8080/",
     "height": 90
    },
    "colab_type": "code",
    "id": "w-easQJ0g1p-",
    "outputId": "1416d8f4-34b5-4e2b-d36c-85c3cee3f4bb"
   },
   "outputs": [],
   "source": [
    "print(train_X.shape)\n",
    "print(train_y.shape)\n",
    "print(val_X.shape)\n",
    "print(val_y.shape)"
   ]
  },
  {
   "cell_type": "code",
   "execution_count": null,
   "metadata": {
    "colab": {
     "base_uri": "https://localhost:8080/",
     "height": 313
    },
    "colab_type": "code",
    "id": "nXd6FZq5g2wd",
    "outputId": "39785018-c142-4e6e-a947-d09aadfef2bc"
   },
   "outputs": [],
   "source": [
    "train_X[0:5]"
   ]
  },
  {
   "cell_type": "markdown",
   "metadata": {
    "colab_type": "text",
    "id": "iPF-eOJRq4Ll"
   },
   "source": [
    "We can train our models on training data and evaluating them on validation set to obtain more realistic estimates of RMSE. Let's see if this works with our decision tree model."
   ]
  },
  {
   "cell_type": "code",
   "execution_count": null,
   "metadata": {
    "colab": {
     "base_uri": "https://localhost:8080/",
     "height": 126
    },
    "colab_type": "code",
    "id": "BRLXYm4JqM90",
    "outputId": "898978dc-f05e-4ab1-efef-3740f282d3bb"
   },
   "outputs": [],
   "source": [
    "dtr=DecisionTreeRegressor(max_depth = 10) \n",
    "dtr.fit(train_X[['abs_diff_longitude', 'abs_diff_latitude']], train_y)"
   ]
  },
  {
   "cell_type": "code",
   "execution_count": null,
   "metadata": {
    "colab": {
     "base_uri": "https://localhost:8080/",
     "height": 35
    },
    "colab_type": "code",
    "id": "XVBrU3RbsGNG",
    "outputId": "c8bc64a5-c01b-40e8-ea5a-69c17bc60aef"
   },
   "outputs": [],
   "source": [
    "np.sqrt(mean_squared_error(train_y, dtr.predict(train_X[['abs_diff_longitude', 'abs_diff_latitude']])))"
   ]
  },
  {
   "cell_type": "code",
   "execution_count": null,
   "metadata": {
    "colab": {
     "base_uri": "https://localhost:8080/",
     "height": 35
    },
    "colab_type": "code",
    "id": "Z6CMmIW-g-hh",
    "outputId": "f844d9df-0efb-4079-e0b4-900802b91ba2"
   },
   "outputs": [],
   "source": [
    "np.sqrt(mean_squared_error(val_y, dtr.predict(val_X[['abs_diff_longitude', 'abs_diff_latitude']])))"
   ]
  },
  {
   "cell_type": "markdown",
   "metadata": {
    "colab_type": "text",
    "id": "ZPy_G_6MoShz"
   },
   "source": [
    "if you increase the depth of the decision tree (e.g. to 100), you will see that the gap between validation and train RMSE also grows. **What could be the reason?**"
   ]
  },
  {
   "cell_type": "markdown",
   "metadata": {
    "colab_type": "text",
    "id": "iSVKmeImszQP"
   },
   "source": [
    "Now train a new decision tree instance on the whole dataset (train + validation sets combined) with a reasonable `max_depth`."
   ]
  },
  {
   "cell_type": "code",
   "execution_count": null,
   "metadata": {
    "colab": {
     "base_uri": "https://localhost:8080/",
     "height": 126
    },
    "colab_type": "code",
    "id": "UQ-CkMZ3kAOV",
    "outputId": "8bfa8520-c233-432c-dc5a-c8cd8ad2b9ed"
   },
   "outputs": [],
   "source": [
    "dtr=DecisionTreeRegressor(max_depth = 10) \n",
    "dtr.fit(train[['abs_diff_longitude', 'abs_diff_latitude']], train[['fare_amount']])"
   ]
  },
  {
   "cell_type": "code",
   "execution_count": null,
   "metadata": {
    "colab": {
     "base_uri": "https://localhost:8080/",
     "height": 108
    },
    "colab_type": "code",
    "id": "vF-QZAv6s5-z",
    "outputId": "4e1bb295-32fb-4db2-c1d8-4e5a776ff108"
   },
   "outputs": [],
   "source": [
    "test_y_predictions = dtr.predict(test_df[['abs_diff_longitude', 'abs_diff_latitude']])\n",
    "\n",
    "# Write the predictions to a CSV file which we can submit to the competition.\n",
    "submission = pd.DataFrame(\n",
    "    {'key': test_df.key, 'fare_amount': test_y_predictions},\n",
    "    columns = ['key', 'fare_amount'])\n",
    "submission.to_csv('submission_dt.csv', index = False)\n",
    "\n",
    "!ls"
   ]
  },
  {
   "cell_type": "code",
   "execution_count": null,
   "metadata": {
    "colab": {
     "base_uri": "https://localhost:8080/",
     "height": 72
    },
    "colab_type": "code",
    "id": "pihqbIH3s9QK",
    "outputId": "6561a65b-470f-4850-a37e-d459115f1243"
   },
   "outputs": [],
   "source": [
    "!kaggle competitions submit -c new-york-city-taxi-fare-prediction -f submission_dt.csv -m \"Decision Tree Regressor using 1M records and max_depth = 10\""
   ]
  },
  {
   "cell_type": "markdown",
   "metadata": {
    "colab_type": "text",
    "id": "nqV2c5sDc_f2"
   },
   "source": [
    "## Homework exercise 5 (4 points): cross-validation algorithm\n",
    "<font color='red'> We were cheating on our validation data when we hand-picked the number of decision trees in the previous example (as we used validation data multiple times). The honest and better way of finding a good hyperparameter (number of trees) is a **cross-validation algorithm**.\n",
    "\n",
    "**(a)** Implement the cross-validation algorithm using lecture slides and hints in comments. (3 points) </font>"
   ]
  },
  {
   "cell_type": "code",
   "execution_count": null,
   "metadata": {
    "colab": {},
    "colab_type": "code",
    "id": "G96lG0IbfG87"
   },
   "outputs": [],
   "source": [
    "max_depths = [1, 2, 5, 8, 9, 10, 11, 12, 13, 15, 20]\n",
    "\n",
    "for param in max_depths:\n",
    "  print(f'Calculating RMSE for {param} tree(s)...')\n",
    "  ##### YOUR CODE STARTS #####\n",
    "  # 4-fold cross validation\n",
    "  # break training data into 4 equal chunks using np.concatenate and np.repeate functions\n",
    "  folds_indx =  ...\n",
    "\n",
    "  # randomly shuffle the indeces\n",
    "  np.random.shuffle(folds_indx)\n",
    "  \n",
    "  # number of folds\n",
    "  n_folds = 4\n",
    "\n",
    "  # initialise variable that will hold RMSEs for each fold\n",
    "  fold_RMSEs = np.zeros(n_folds)\n",
    "  for fold_indx in np.arange(n_folds):\n",
    "\n",
    "    # split data into train_X, train_y and val_X, val_y depending on the fold:\n",
    "    train_X = ...\n",
    "    train_y = ...\n",
    "    val_X = ...\n",
    "    val_y = ...\n",
    "\n",
    "    # train the decision tree with max_depth = param\n",
    "    dtr = ...\n",
    "\n",
    "    # fit the decision tree on training data\n",
    "    dtr.fit(...)\n",
    "\n",
    "    # predict validation data\n",
    "    val_predictions = ...\n",
    "\n",
    "    # calculate RMSE for this fold\n",
    "    fold_RMSEs[fold_indx] = ...\n",
    "    ##### YOUR CODE ENDS ##### (please do not delete this line)\n",
    "\n",
    "  print(f'Average validation RMSE for {param} of trees is {np.mean(fold_RMSEs)}')"
   ]
  },
  {
   "cell_type": "markdown",
   "metadata": {
    "colab_type": "text",
    "id": "urDuREWxK_ro"
   },
   "source": [
    "<font color='red'> **(b)** Based on above results train the `DecisionTreeRegressor` on the entire training data with new, more optimal number of trees. Predict the test set and submit the results to Kaggle. Your leaderboard score should be smaller than 4.02083 (1 point) </font>"
   ]
  },
  {
   "cell_type": "code",
   "execution_count": null,
   "metadata": {
    "colab": {},
    "colab_type": "code",
    "id": "3OfvpyJKIN_j"
   },
   "outputs": [],
   "source": [
    "##### YOUR CODE STARTS #####\n",
    "...\n",
    "\n",
    "!kaggle ...\n",
    "##### YOUR CODE ENDS ##### (please do not delete this line)"
   ]
  },
  {
   "cell_type": "markdown",
   "metadata": {
    "colab_type": "text",
    "id": "sMmhuxN4iw2L"
   },
   "source": [
    "# Bonus exercises\n",
    "*(NB, these are optional exercises!)*\n",
    "\n",
    "## Bonus exercise 1 (2 bonus points):\n",
    "\n",
    "<font color='red'> Visualising misclassified examples can help to debug the classification algorithm. But misclassified examples may have different probabilities. In this bonus exercise (optional) try modifying code we have written for the homework exercise 2 so that title now would include probability of a true class and of a wrong class. You would probably need to change the code of `classify_knn` function. </font> "
   ]
  },
  {
   "cell_type": "markdown",
   "metadata": {
    "colab_type": "text",
    "id": "UkOtofaRjH8P"
   },
   "source": [
    "## Bonus exercise 2 (up to 3 bonus points): the grand challenge\n",
    "<font color='red'> Try to get into top 300 places on public leaderboard (RMSE < 3.04) using different ML algorithms with different parameters, more features, more data, better preprocessing. Here are some ideas for improvement:\n",
    "* Use more data (we only took 1M out of 2M, there are 53M more on the website)\n",
    "* Do more preprocessing (remember negative prices or unrealistic numbers of passengers?)\n",
    "* Use more/better features (e.g. euclidean distance, or google what is haversine distance)\n",
    "* Use some other regression algorithm (e.g. look into RandomForestRegressor from sklearn.ensemble)\n",
    "* Tune parameters of these algorithms\n",
    "* Try something else!\n",
    "</font> \n",
    "\n",
    "<font color='red'>You should make a small post here with code and elaborate explanations of what you have tried (do it even you did not manage to break into top 300). Number of points would depend on quality of your explanations and the resulting rank.</font> \n"
   ]
  },
  {
   "cell_type": "code",
   "execution_count": null,
   "metadata": {
    "colab": {},
    "colab_type": "code",
    "id": "d2T2eINijEhg"
   },
   "outputs": [],
   "source": [
    "# Hint:\n",
    "R = 6378\n",
    "\n",
    "def haversine_distance(lon1, lon2, lat1, lat2):\n",
    "    \"\"\"\n",
    "    Calculate the great circle distance between two points\n",
    "    on the earth (specified in decimal degrees)\n",
    "\n",
    "    All args must be of equal length.    \n",
    "    \n",
    "    source: https://stackoverflow.com/a/29546836\n",
    "\n",
    "    \"\"\"\n",
    "    # Convert latitude and longitude to radians\n",
    "    lon1, lat1, lon2, lat2 = map(np.radians, [lon1, lat1, lon2, lat2])\n",
    "\n",
    "    # Find the differences\n",
    "    dlon = lon2 - lon1\n",
    "    dlat = lat2 - lat1\n",
    "\n",
    "    # Apply the formula \n",
    "    a = np.sin(dlat/2.0)**2 + np.cos(lat1) * np.cos(lat2) * np.sin(dlon/2.0)**2\n",
    "    # Calculate the angle (in radians)\n",
    "    c = 2 * np.arcsin(np.sqrt(a))\n",
    "    # Convert to kilometers\n",
    "    km = R * c\n",
    "    \n",
    "    return km"
   ]
  },
  {
   "cell_type": "code",
   "execution_count": null,
   "metadata": {
    "colab": {
     "base_uri": "https://localhost:8080/",
     "height": 35
    },
    "colab_type": "code",
    "id": "0NwOE-81GZCy",
    "outputId": "a5e0b849-5e8d-459c-c48e-900ab2a6d496"
   },
   "outputs": [],
   "source": [
    "!pip install -q git+https://github.com/tensorflow/docs"
   ]
  },
  {
   "cell_type": "code",
   "execution_count": null,
   "metadata": {
    "colab": {
     "base_uri": "https://localhost:8080/",
     "height": 35
    },
    "colab_type": "code",
    "id": "tAim4wy3_h59",
    "outputId": "88bfe16f-328e-453e-c70c-7612d491b4cd"
   },
   "outputs": [],
   "source": [
    "import tensorflow as tf\n",
    "\n",
    "from tensorflow import keras\n",
    "from tensorflow.keras import layers\n",
    "\n",
    "import tensorflow_docs as tfdocs\n",
    "import tensorflow_docs.plots\n",
    "import tensorflow_docs.modeling\n",
    "\n",
    "print(tf.__version__)\n"
   ]
  },
  {
   "cell_type": "code",
   "execution_count": null,
   "metadata": {
    "colab": {
     "base_uri": "https://localhost:8080/",
     "height": 346
    },
    "colab_type": "code",
    "id": "9ETNrPaJ-i6I",
    "outputId": "7de0c1ab-b440-4b52-c163-dd84b6de311c"
   },
   "outputs": [],
   "source": [
    "dl_train = train.copy()\n",
    "dl_train.pop('pickup_datetime')\n",
    "dl_train.pop('fare_amount')\n",
    "\n",
    "def build_model():\n",
    "  model = keras.Sequential([\n",
    "    layers.Dense(64, activation='relu', input_shape=[len(dl_train.keys())]),\n",
    "    layers.Dense(64, activation='relu'),\n",
    "    layers.Dense(1)\n",
    "  ])\n",
    "\n",
    "  optimizer = tf.keras.optimizers.RMSprop(0.001)\n",
    "\n",
    "  model.compile(loss='mse',\n",
    "                optimizer=optimizer,\n",
    "                metrics=['mae', 'mse'])\n",
    "  return model\n",
    "\n",
    "model = build_model()\n",
    "\n",
    "model.summary()"
   ]
  },
  {
   "cell_type": "code",
   "execution_count": null,
   "metadata": {
    "colab": {
     "base_uri": "https://localhost:8080/",
     "height": 199
    },
    "colab_type": "code",
    "id": "Y529XH2IAYOx",
    "outputId": "3017669d-d825-47e6-d0f4-dfdb9347bc4e"
   },
   "outputs": [],
   "source": [
    "example_batch = dl_train[:10]\n",
    "example_result = model.predict(example_batch)\n",
    "example_result"
   ]
  },
  {
   "cell_type": "code",
   "execution_count": null,
   "metadata": {
    "colab": {
     "base_uri": "https://localhost:8080/",
     "height": 92
    },
    "colab_type": "code",
    "id": "DjYAGyNUCx22",
    "outputId": "2283d83e-0f70-4783-c5b7-17ff2ea1f2d7"
   },
   "outputs": [],
   "source": [
    "# EPOCHS = 1000\n",
    "EPOCHS = 10\n",
    "\n",
    "history = model.fit(\n",
    "  dl_train, train.fare_amount,\n",
    "  epochs=EPOCHS, validation_split = 0.2, verbose=0,\n",
    "  callbacks=[tfdocs.modeling.EpochDots()])\n"
   ]
  },
  {
   "cell_type": "code",
   "execution_count": null,
   "metadata": {
    "colab": {
     "base_uri": "https://localhost:8080/",
     "height": 206
    },
    "colab_type": "code",
    "id": "loJNCYzgM0TF",
    "outputId": "57902661-9097-4895-cdc3-623385c1e4fb"
   },
   "outputs": [],
   "source": [
    "hist = pd.DataFrame(history.history)\n",
    "hist['epoch'] = history.epoch\n",
    "hist.tail()\n"
   ]
  },
  {
   "cell_type": "code",
   "execution_count": null,
   "metadata": {
    "colab": {
     "base_uri": "https://localhost:8080/",
     "height": 55
    },
    "colab_type": "code",
    "id": "RngryK-EQmOO",
    "outputId": "f826426a-d348-43ee-ff8c-c8e6198593a2"
   },
   "outputs": [],
   "source": [
    "# print(history.model.history.history)"
   ]
  },
  {
   "cell_type": "code",
   "execution_count": null,
   "metadata": {
    "colab": {
     "base_uri": "https://localhost:8080/",
     "height": 628
    },
    "colab_type": "code",
    "id": "6TyiAdilNaif",
    "outputId": "0cfed4f1-add1-4859-e4de-a572f6f436cb"
   },
   "outputs": [],
   "source": [
    "plotter = tfdocs.plots.HistoryPlotter(smoothing_std=2)\n",
    "plotter.plot({'Basic': history}, metric = \"mean_absolute_error\")\n",
    "plt.ylim([0, 10])\n",
    "plt.ylabel('MAE [MPG]')\n"
   ]
  }
 ],
 "metadata": {
  "accelerator": "TPU",
  "colab": {
   "collapsed_sections": [],
   "name": "Practice1_MM.ipynb",
   "provenance": []
  },
  "kernelspec": {
   "display_name": "Python 3",
   "language": "python",
   "name": "python3"
  },
  "language_info": {
   "codemirror_mode": {
    "name": "ipython",
    "version": 3
   },
   "file_extension": ".py",
   "mimetype": "text/x-python",
   "name": "python",
   "nbconvert_exporter": "python",
   "pygments_lexer": "ipython3",
   "version": "3.7.3"
  }
 },
 "nbformat": 4,
 "nbformat_minor": 1
}
